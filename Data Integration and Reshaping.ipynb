{
 "cells": [
  {
   "cell_type": "markdown",
   "metadata": {},
   "source": [
    "### Assignment 3 - Data Integration and Data reshaping\n",
    "\n",
    "Student ID: 29470811\n",
    "\n",
    "Student Name: Prashantkumar P Kulkarni"
   ]
  },
  {
   "cell_type": "markdown",
   "metadata": {},
   "source": [
    "#### 1.  Importing Libraries"
   ]
  },
  {
   "cell_type": "code",
   "execution_count": 1,
   "metadata": {},
   "outputs": [],
   "source": [
    "import numpy\n",
    "import matplotlib \n",
    "%matplotlib inline\n",
    "import pandas as pd\n",
    "from shapely.geometry import shape,Point,Polygon\n",
    "from mpl_toolkits.basemap import Basemap \n",
    "import xml.etree.ElementTree as ET\n",
    "import shapefile\n",
    "import json\n",
    "import matplotlib.pyplot as plt\n",
    "import matplotlib.patches as patches\n",
    "#from matplotlib.patches import Polygon\n",
    "from matplotlib.collections import PatchCollection\n",
    "from urllib.request import urlopen\n",
    "from bs4 import BeautifulSoup\n",
    "import re"
   ]
  },
  {
   "cell_type": "markdown",
   "metadata": {},
   "source": [
    "#### 2. Loading JSON file for real estate and converting it to Dataframe"
   ]
  },
  {
   "cell_type": "code",
   "execution_count": 2,
   "metadata": {},
   "outputs": [],
   "source": [
    "with open('real_state.json') as json_data:\n",
    "    d = json.load(json_data)\n",
    "df1 =pd.DataFrame(d)"
   ]
  },
  {
   "cell_type": "markdown",
   "metadata": {},
   "source": [
    "#### 3. Loading XML file for real estate and converting it to Dataframe"
   ]
  },
  {
   "cell_type": "code",
   "execution_count": 3,
   "metadata": {},
   "outputs": [],
   "source": [
    "path_to_xml_file = \"real_state.xml\"\n",
    "\n",
    "tree = ET.parse(path_to_xml_file)\n",
    "root = tree.getroot()\n",
    "children = root.getchildren()\n",
    "diction = {}\n",
    "for child in root:\n",
    "    list1 = []\n",
    "    for element in child:\n",
    "        list1.append(element.text)\n",
    "    diction[child.tag] = list1"
   ]
  },
  {
   "cell_type": "code",
   "execution_count": 4,
   "metadata": {},
   "outputs": [],
   "source": [
    "df2 = pd.DataFrame(diction)"
   ]
  },
  {
   "cell_type": "markdown",
   "metadata": {},
   "source": [
    "#### 4. Combining the two dataframes into a single dataframe"
   ]
  },
  {
   "cell_type": "code",
   "execution_count": 5,
   "metadata": {},
   "outputs": [],
   "source": [
    "df3 = pd.concat([df1, df2], ignore_index=True)"
   ]
  },
  {
   "cell_type": "code",
   "execution_count": 6,
   "metadata": {},
   "outputs": [
    {
     "name": "stdout",
     "output_type": "stream",
     "text": [
      "<class 'pandas.core.frame.DataFrame'>\n",
      "RangeIndex: 2008 entries, 0 to 2007\n",
      "Data columns (total 10 columns):\n",
      "addr_street      2002 non-null object\n",
      "bathrooms        2002 non-null object\n",
      "bedrooms         2002 non-null object\n",
      "lat              2002 non-null object\n",
      "lng              2002 non-null object\n",
      "parking_space    2002 non-null object\n",
      "price            2002 non-null object\n",
      "property_id      2002 non-null object\n",
      "property_type    2002 non-null object\n",
      "year             2002 non-null object\n",
      "dtypes: object(10)\n",
      "memory usage: 157.0+ KB\n"
     ]
    }
   ],
   "source": [
    "df3.info()"
   ]
  },
  {
   "cell_type": "code",
   "execution_count": 7,
   "metadata": {},
   "outputs": [
    {
     "data": {
      "text/html": [
       "<div>\n",
       "<style scoped>\n",
       "    .dataframe tbody tr th:only-of-type {\n",
       "        vertical-align: middle;\n",
       "    }\n",
       "\n",
       "    .dataframe tbody tr th {\n",
       "        vertical-align: top;\n",
       "    }\n",
       "\n",
       "    .dataframe thead th {\n",
       "        text-align: right;\n",
       "    }\n",
       "</style>\n",
       "<table border=\"1\" class=\"dataframe\">\n",
       "  <thead>\n",
       "    <tr style=\"text-align: right;\">\n",
       "      <th></th>\n",
       "      <th>addr_street</th>\n",
       "      <th>bathrooms</th>\n",
       "      <th>bedrooms</th>\n",
       "      <th>lat</th>\n",
       "      <th>lng</th>\n",
       "      <th>parking_space</th>\n",
       "      <th>price</th>\n",
       "      <th>property_id</th>\n",
       "      <th>property_type</th>\n",
       "      <th>year</th>\n",
       "    </tr>\n",
       "  </thead>\n",
       "  <tbody>\n",
       "    <tr>\n",
       "      <th>count</th>\n",
       "      <td>2002</td>\n",
       "      <td>2002</td>\n",
       "      <td>2002</td>\n",
       "      <td>2002</td>\n",
       "      <td>2002</td>\n",
       "      <td>2002.0</td>\n",
       "      <td>2002.0</td>\n",
       "      <td>2002</td>\n",
       "      <td>2002</td>\n",
       "      <td>2002.0</td>\n",
       "    </tr>\n",
       "    <tr>\n",
       "      <th>unique</th>\n",
       "      <td>1966</td>\n",
       "      <td>7</td>\n",
       "      <td>11</td>\n",
       "      <td>1997</td>\n",
       "      <td>1996</td>\n",
       "      <td>9.0</td>\n",
       "      <td>1568.0</td>\n",
       "      <td>1998</td>\n",
       "      <td>2</td>\n",
       "      <td>25.0</td>\n",
       "    </tr>\n",
       "    <tr>\n",
       "      <th>top</th>\n",
       "      <td>nan</td>\n",
       "      <td>1.0</td>\n",
       "      <td>3.0</td>\n",
       "      <td>nan</td>\n",
       "      <td>nan</td>\n",
       "      <td>2.0</td>\n",
       "      <td>10080000.0</td>\n",
       "      <td>nan</td>\n",
       "      <td>house</td>\n",
       "      <td>2014.0</td>\n",
       "    </tr>\n",
       "    <tr>\n",
       "      <th>freq</th>\n",
       "      <td>3</td>\n",
       "      <td>535</td>\n",
       "      <td>553</td>\n",
       "      <td>3</td>\n",
       "      <td>3</td>\n",
       "      <td>546.0</td>\n",
       "      <td>7.0</td>\n",
       "      <td>3</td>\n",
       "      <td>1999</td>\n",
       "      <td>146.0</td>\n",
       "    </tr>\n",
       "  </tbody>\n",
       "</table>\n",
       "</div>"
      ],
      "text/plain": [
       "       addr_street bathrooms bedrooms   lat   lng  parking_space       price  \\\n",
       "count         2002      2002     2002  2002  2002         2002.0      2002.0   \n",
       "unique        1966         7       11  1997  1996            9.0      1568.0   \n",
       "top            nan       1.0      3.0   nan   nan            2.0  10080000.0   \n",
       "freq             3       535      553     3     3          546.0         7.0   \n",
       "\n",
       "       property_id property_type    year  \n",
       "count         2002          2002  2002.0  \n",
       "unique        1998             2    25.0  \n",
       "top            nan         house  2014.0  \n",
       "freq             3          1999   146.0  "
      ]
     },
     "execution_count": 7,
     "metadata": {},
     "output_type": "execute_result"
    }
   ],
   "source": [
    "df3.describe(include='O')"
   ]
  },
  {
   "cell_type": "markdown",
   "metadata": {},
   "source": [
    "There are Null values, duplicates in the dataframe, we will remove the duplicates and null values from the dataframe"
   ]
  },
  {
   "cell_type": "markdown",
   "metadata": {},
   "source": [
    "#### 5. Removing duplicates, null values from the dataframe"
   ]
  },
  {
   "cell_type": "code",
   "execution_count": 8,
   "metadata": {},
   "outputs": [],
   "source": [
    "df3 =df3.drop_duplicates()\n",
    "df3 = df3.dropna()\n",
    "\n",
    "df3 = df3.reset_index(drop=True)"
   ]
  },
  {
   "cell_type": "code",
   "execution_count": 9,
   "metadata": {},
   "outputs": [],
   "source": [
    "df3 = df3[df3['property_id'] != 'nan']"
   ]
  },
  {
   "cell_type": "markdown",
   "metadata": {},
   "source": [
    "Once we have cleaned the dataframe, it is necessary to reset the index, will reset index of the rows."
   ]
  },
  {
   "cell_type": "code",
   "execution_count": 10,
   "metadata": {},
   "outputs": [],
   "source": [
    "df3 = df3.reset_index(drop=True)"
   ]
  },
  {
   "cell_type": "code",
   "execution_count": 11,
   "metadata": {},
   "outputs": [
    {
     "name": "stdout",
     "output_type": "stream",
     "text": [
      "<class 'pandas.core.frame.DataFrame'>\n",
      "RangeIndex: 1997 entries, 0 to 1996\n",
      "Data columns (total 10 columns):\n",
      "addr_street      1997 non-null object\n",
      "bathrooms        1997 non-null object\n",
      "bedrooms         1997 non-null object\n",
      "lat              1997 non-null object\n",
      "lng              1997 non-null object\n",
      "parking_space    1997 non-null object\n",
      "price            1997 non-null object\n",
      "property_id      1997 non-null object\n",
      "property_type    1997 non-null object\n",
      "year             1997 non-null object\n",
      "dtypes: object(10)\n",
      "memory usage: 156.1+ KB\n"
     ]
    }
   ],
   "source": [
    "df3.info()"
   ]
  },
  {
   "cell_type": "markdown",
   "metadata": {},
   "source": [
    "The dataframe is clean and can be used for our further calculations"
   ]
  },
  {
   "cell_type": "code",
   "execution_count": 12,
   "metadata": {},
   "outputs": [],
   "source": [
    "df5 = df3.copy()"
   ]
  },
  {
   "cell_type": "markdown",
   "metadata": {},
   "source": [
    "#### 6. Reading files in various formats into dataframes"
   ]
  },
  {
   "cell_type": "markdown",
   "metadata": {},
   "source": [
    "Hospitals data in excel format into a dataframe"
   ]
  },
  {
   "cell_type": "code",
   "execution_count": 13,
   "metadata": {},
   "outputs": [],
   "source": [
    "df_hosp = pd.read_excel(\"hospitals.xlsx\")"
   ]
  },
  {
   "cell_type": "markdown",
   "metadata": {},
   "source": [
    "Shopping Center data in the form of JSON"
   ]
  },
  {
   "cell_type": "code",
   "execution_count": 14,
   "metadata": {},
   "outputs": [],
   "source": [
    "with open('shopingcenters.json') as json_data:\n",
    "    d = json.load(json_data)\n",
    "df_shopping =pd.DataFrame(d)"
   ]
  },
  {
   "cell_type": "markdown",
   "metadata": {},
   "source": [
    "Supermarkets in the form of html"
   ]
  },
  {
   "cell_type": "code",
   "execution_count": 15,
   "metadata": {},
   "outputs": [],
   "source": [
    "df_html = pd.read_html(\"supermarkets.html\")\n",
    "df_super = df_html[0]\n",
    "df_super = df_super.drop(columns='Unnamed: 0')"
   ]
  },
  {
   "cell_type": "markdown",
   "metadata": {},
   "source": [
    "Train stops in csv format"
   ]
  },
  {
   "cell_type": "code",
   "execution_count": 16,
   "metadata": {},
   "outputs": [],
   "source": [
    "df_stops = pd.read_csv(\"stops.txt\")"
   ]
  },
  {
   "cell_type": "markdown",
   "metadata": {},
   "source": [
    "#### 7. Distance calculation"
   ]
  },
  {
   "cell_type": "code",
   "execution_count": 17,
   "metadata": {},
   "outputs": [],
   "source": [
    "from math import cos, sin,asin, atan2, sqrt\n",
    "def distance(lat1, lon1, lat2, lon2):\n",
    "    p = 0.017453292519943295     \n",
    "    a = 0.5 - cos((lat2 - lat1) * p)/2 + cos(lat1 * p) * cos(lat2 * p) * (1 - cos((lon2 - lon1) * p)) / 2\n",
    "    return 12756000 * asin(sqrt(a))"
   ]
  },
  {
   "cell_type": "markdown",
   "metadata": {},
   "source": [
    "A. Calculating nearest shopping center and its distance"
   ]
  },
  {
   "cell_type": "code",
   "execution_count": 18,
   "metadata": {},
   "outputs": [],
   "source": [
    "shop_id = []\n",
    "distance_value = []\n",
    "n = 0\n",
    "for index1,row1 in df3.iterrows():\n",
    "    distances = 100000\n",
    "    for index,row in df_shopping.iterrows():\n",
    "        dist = distance(float(row1['lat']),float(row1['lng']),float(row['lat']),float(row['lng']))\n",
    "        if (dist < distances):\n",
    "            distances = round(dist,0)\n",
    "            row_id = row['sc_id']\n",
    "    shop_id.append(row_id)\n",
    "    distance_value.append(distances)\n",
    "df3['shopping_center_id'] = pd.DataFrame(shop_id)\n",
    "df3['distance_to_sc'] = pd.DataFrame(distance_value)"
   ]
  },
  {
   "cell_type": "markdown",
   "metadata": {},
   "source": [
    "B. Calculating nearest train station and its distance"
   ]
  },
  {
   "cell_type": "code",
   "execution_count": 19,
   "metadata": {},
   "outputs": [],
   "source": [
    "key_df = []\n",
    "value_df = []\n",
    "shop_id = []\n",
    "distance_value = []\n",
    "n = 0\n",
    "for index1,row1 in df3.iterrows():\n",
    "    distances = 100000\n",
    "    for index,row in df_stops.iterrows():\n",
    "        dist = distance(float(row1['lat']),float(row1['lng']),float(row['stop_lat']),float(row['stop_lon']))\n",
    "        if (dist < distances):\n",
    "            distances = round(dist,0)\n",
    "            row_id = row['stop_id']\n",
    "    shop_id.append(row_id)\n",
    "    distance_value.append(distances)\n",
    "df3['train_station_id'] = pd.DataFrame(shop_id)\n",
    "df3['distance_to_train_station'] = pd.DataFrame(distance_value)"
   ]
  },
  {
   "cell_type": "markdown",
   "metadata": {},
   "source": [
    "C. Calculating nearest hospital and its distance"
   ]
  },
  {
   "cell_type": "code",
   "execution_count": 20,
   "metadata": {
    "scrolled": false
   },
   "outputs": [],
   "source": [
    "key_df = []\n",
    "value_df = []\n",
    "shop_id = []\n",
    "distance_value = []\n",
    "for index1,row1 in df3.iterrows():\n",
    "    distances = 100000\n",
    "    for index,row in df_hosp.iterrows():\n",
    "        dist = distance(float(row1['lat']),float(row1['lng']),float(row['lat']),float(row['lng']))\n",
    "        if (dist < distances):\n",
    "            distances = round(dist,0)\n",
    "            row_id = row['id']\n",
    "    shop_id.append(row_id)\n",
    "    distance_value.append(distances)\n",
    "df3['hospital_id'] = pd.DataFrame(shop_id)\n",
    "df3['distance_to_hospital'] = pd.DataFrame(distance_value)"
   ]
  },
  {
   "cell_type": "markdown",
   "metadata": {},
   "source": [
    "D. Calculating nearest supermarket and its distance"
   ]
  },
  {
   "cell_type": "code",
   "execution_count": 21,
   "metadata": {},
   "outputs": [],
   "source": [
    "key_df = []\n",
    "value_df = []\n",
    "shop_id = []\n",
    "distance_value = []\n",
    "n = 0\n",
    "for index1,row1 in df3.iterrows():\n",
    "    distances = 100000\n",
    "    for index,row in df_super.iterrows():\n",
    "        dist = distance(float(row1['lat']),float(row1['lng']),float(row['lat']),float(row['lng']))\n",
    "        if (dist < distances):\n",
    "            distances = round(dist,0)\n",
    "            row_id = row['id']\n",
    "    shop_id.append(row_id)\n",
    "    distance_value.append(distances)\n",
    "df3['supermarket_id'] = pd.DataFrame(shop_id)\n",
    "df3['distance_to_supermaket'] = pd.DataFrame(distance_value)"
   ]
  },
  {
   "cell_type": "markdown",
   "metadata": {},
   "source": [
    "#### 8. Calculating the suburb"
   ]
  },
  {
   "cell_type": "code",
   "execution_count": 22,
   "metadata": {},
   "outputs": [],
   "source": [
    "sf = shapefile.Reader(\"VIC_LOCALITY_POLYGON_shp\") \n",
    "recs = sf.records()\n",
    "shapes = sf.shapes()"
   ]
  },
  {
   "cell_type": "code",
   "execution_count": 23,
   "metadata": {},
   "outputs": [],
   "source": [
    "polygon = shapes\n",
    "shpfilePoints = []\n",
    "n = 0\n",
    "for shape in polygon:\n",
    "    n = n+1\n",
    "    shpfilePoints.append(shape.points)"
   ]
  },
  {
   "cell_type": "code",
   "execution_count": 24,
   "metadata": {},
   "outputs": [],
   "source": [
    "suburb = []\n",
    "for index,row in df3.iterrows():\n",
    "    point = Point(float(row['lng']),float(row['lat']))\n",
    "    for i in range(len(shpfilePoints)):\n",
    "        poly = Polygon(shpfilePoints[i])\n",
    "        if(point.within(poly)== True):\n",
    "            suburb.append(recs[i][6])\n",
    "            break"
   ]
  },
  {
   "cell_type": "code",
   "execution_count": 25,
   "metadata": {},
   "outputs": [],
   "source": [
    "df3['suburb'] = pd.DataFrame(suburb)"
   ]
  },
  {
   "cell_type": "markdown",
   "metadata": {},
   "source": [
    "#### 9. Calculating Average travel time to CBD and the transfer flag"
   ]
  },
  {
   "cell_type": "code",
   "execution_count": 26,
   "metadata": {},
   "outputs": [],
   "source": [
    "df_trip = pd.read_csv(\"stop_times.txt\")"
   ]
  },
  {
   "cell_type": "code",
   "execution_count": 27,
   "metadata": {},
   "outputs": [],
   "source": [
    "df_trip = df_trip[df_trip['trip_id'].str.contains('T0')]"
   ]
  },
  {
   "cell_type": "code",
   "execution_count": 28,
   "metadata": {},
   "outputs": [],
   "source": [
    "df_trip = df_trip.reset_index(drop=True)"
   ]
  },
  {
   "cell_type": "markdown",
   "metadata": {},
   "source": [
    "Station ID for flinders street railway station"
   ]
  },
  {
   "cell_type": "code",
   "execution_count": 29,
   "metadata": {},
   "outputs": [
    {
     "data": {
      "text/html": [
       "<div>\n",
       "<style scoped>\n",
       "    .dataframe tbody tr th:only-of-type {\n",
       "        vertical-align: middle;\n",
       "    }\n",
       "\n",
       "    .dataframe tbody tr th {\n",
       "        vertical-align: top;\n",
       "    }\n",
       "\n",
       "    .dataframe thead th {\n",
       "        text-align: right;\n",
       "    }\n",
       "</style>\n",
       "<table border=\"1\" class=\"dataframe\">\n",
       "  <thead>\n",
       "    <tr style=\"text-align: right;\">\n",
       "      <th></th>\n",
       "      <th>stop_id</th>\n",
       "      <th>stop_name</th>\n",
       "      <th>stop_short_name</th>\n",
       "      <th>stop_lat</th>\n",
       "      <th>stop_lon</th>\n",
       "    </tr>\n",
       "  </thead>\n",
       "  <tbody>\n",
       "    <tr>\n",
       "      <th>29</th>\n",
       "      <td>19854</td>\n",
       "      <td>Flinders Street Railway Station</td>\n",
       "      <td>Melbourne City</td>\n",
       "      <td>-37.818305</td>\n",
       "      <td>144.966964</td>\n",
       "    </tr>\n",
       "  </tbody>\n",
       "</table>\n",
       "</div>"
      ],
      "text/plain": [
       "    stop_id                        stop_name stop_short_name   stop_lat  \\\n",
       "29    19854  Flinders Street Railway Station  Melbourne City -37.818305   \n",
       "\n",
       "      stop_lon  \n",
       "29  144.966964  "
      ]
     },
     "execution_count": 29,
     "metadata": {},
     "output_type": "execute_result"
    }
   ],
   "source": [
    "df_stops[df_stops['stop_name'] == 'Flinders Street Railway Station']"
   ]
  },
  {
   "cell_type": "code",
   "execution_count": 30,
   "metadata": {},
   "outputs": [],
   "source": [
    "df_new_t = pd.DataFrame(columns=['trip_id','arrival_time','departure_time','stop_id','stop_sequence','stop_headsign','pickup_type','drop_off_type','shape_dist_traveled'])"
   ]
  },
  {
   "cell_type": "code",
   "execution_count": 31,
   "metadata": {},
   "outputs": [],
   "source": [
    "j = 0\n",
    "for index,row in df_trip.iterrows():\n",
    "    arr_time = re.search(r'([0-9]+):([0-9]+):([0-9]+)',row['arrival_time'])\n",
    "    if(int(arr_time.group(1))>=7 and int(arr_time.group(1))<11):\n",
    "        j = j + 1\n",
    "        df_new_t = df_new_t.append(row)"
   ]
  },
  {
   "cell_type": "code",
   "execution_count": 32,
   "metadata": {},
   "outputs": [],
   "source": [
    "df_new_t = df_new_t.reset_index(drop = True)"
   ]
  },
  {
   "cell_type": "code",
   "execution_count": 33,
   "metadata": {},
   "outputs": [],
   "source": [
    "stops = df3['train_station_id'].unique()"
   ]
  },
  {
   "cell_type": "code",
   "execution_count": 34,
   "metadata": {},
   "outputs": [],
   "source": [
    "trips = {}\n",
    "for each in stops:\n",
    "    df_s = df_new_t[df_new_t['stop_id'] == each]\n",
    "    stations = df_s['trip_id'].values\n",
    "    trips[each] = stations"
   ]
  },
  {
   "cell_type": "code",
   "execution_count": 35,
   "metadata": {
    "scrolled": false
   },
   "outputs": [
    {
     "name": "stderr",
     "output_type": "stream",
     "text": [
      "C:\\Users\\HP WORLD\\Anaconda4\\lib\\site-packages\\ipykernel_launcher.py:11: DeprecationWarning: \n",
      ".ix is deprecated. Please use\n",
      ".loc for label based indexing or\n",
      ".iloc for positional indexing\n",
      "\n",
      "See the documentation here:\n",
      "http://pandas.pydata.org/pandas-docs/stable/indexing.html#ix-indexer-is-deprecated\n",
      "  # This is added back by InteractiveShellApp.init_path()\n",
      "C:\\Users\\HP WORLD\\Anaconda4\\lib\\site-packages\\ipykernel_launcher.py:17: DeprecationWarning: \n",
      ".ix is deprecated. Please use\n",
      ".loc for label based indexing or\n",
      ".iloc for positional indexing\n",
      "\n",
      "See the documentation here:\n",
      "http://pandas.pydata.org/pandas-docs/stable/indexing.html#ix-indexer-is-deprecated\n"
     ]
    }
   ],
   "source": [
    "stations = {}\n",
    "for key,value in trips.items():\n",
    "    total_time = 0\n",
    "    j = 0\n",
    "    for i in range(len(value)):\n",
    "        tranfer_flag = 0\n",
    "        df_2 = df_new_t[df_new_t['trip_id']==value[i]]\n",
    "        df_2 =df_2.reset_index(drop=True)\n",
    "        dep_stop = df_2[df_2['stop_id'] == key]\n",
    "        dep_stop = dep_stop.reset_index(drop=True)\n",
    "        dep_time = dep_stop.ix[0]['departure_time']\n",
    "        df_flind = df_2[df_2['stop_id']==19854]\n",
    "        if(len(df_flind) > 0):\n",
    "            index_df = df_flind.index.item()\n",
    "        df_2 = df_2[:index_df+1]\n",
    "        for index,row in df_2.iterrows():\n",
    "            if(df_2.ix[0]['stop_id'] != 19854):\n",
    "                rs = re.search(r'([0-9]+):([0-9]+):([0-9]+)',row['departure_time'])\n",
    "                if(int(rs.group(1)) <= 8):\n",
    "                    if(df_2.ix[len(df_2)-1]['stop_id']) == 19854:\n",
    "                        arr_time = df_2.ix[len(df_2)-1]['arrival_time']\n",
    "                        re_arr = re.search(r'([0-9]+):([0-9]+):([0-9]+)',arr_time)\n",
    "                        re_dep = re.search(r'([0-9]+):([0-9]+):([0-9]+)',dep_time)\n",
    "                        arr_hr = (int(re_arr.group(1))-int(re_dep.group(1)))*60*60\n",
    "                        arr_min = (int(re_arr.group(2))-int(re_dep.group(2)))*60\n",
    "                        arr_sec = (int(re_arr.group(3))-int(re_dep.group(3)))\n",
    "                        travel_time = (arr_hr+arr_min+arr_sec)/(60)\n",
    "                        if(travel_time >0):\n",
    "                            total_time = total_time + travel_time\n",
    "                            j = j+1\n",
    "                            break\n",
    "\n",
    "                elif(int(rs.group(1)) == 9 and int(rs.group(2) ==  0) and int(rs.group(3) ==  0)):\n",
    "                    if(df_2.ix[len(df_2)-1]['stop_id']) == 19854:\n",
    "                        arr_time = df_2.ix[len(df_2)-1]['arrival_time']\n",
    "                        re_arr = re.search(r'([0-9]+):([0-9]+):([0-9]+)',arr_time)\n",
    "                        re_dep = re.search(r'([0-9]+):([0-9]+):([0-9]+)',dep_time)\n",
    "                        arr_hr = (int(re_arr.group(1))-int(re_dep.group(1)))*60*60\n",
    "                        arr_min = (int(re_arr.group(2))-int(re_dep.group(2)))*60\n",
    "                        arr_sec = (int(re_arr.group(3))-int(re_dep.group(3)))\n",
    "                        travel_time = (arr_hr+arr_min+arr_sec)/(60)                        \n",
    "                        if(travel_time >0):    \n",
    "                            total_time = total_time + travel_time\n",
    "                            j = j+1\n",
    "                            break  \n",
    "    if(j > 0):\n",
    "        stations[key] = round((total_time/j),0)\n",
    "    else:\n",
    "        stations[key] = 0\n",
    "                "
   ]
  },
  {
   "cell_type": "code",
   "execution_count": 36,
   "metadata": {},
   "outputs": [],
   "source": [
    "transfer_flag = []\n",
    "travel_to_cbd = []\n",
    "for index,row in df3.iterrows():\n",
    "    for key,value in stations.items():\n",
    "        if(key == row['train_station_id']):\n",
    "            if(value != 0):\n",
    "                travel_to_cbd.append(round(value))\n",
    "                transfer_flag.append(0)\n",
    "            elif(key == 19854):\n",
    "                travel_to_cbd.append(0)\n",
    "                transfer_flag.append(0)\n",
    "            else:\n",
    "                travel_to_cbd.append(0)\n",
    "                transfer_flag.append(1)\n",
    "            break"
   ]
  },
  {
   "cell_type": "code",
   "execution_count": 37,
   "metadata": {},
   "outputs": [],
   "source": [
    "df3['travel_min_to_CBD'] = pd.DataFrame(travel_to_cbd)\n",
    "df3['transfer_flag'] = pd.DataFrame(transfer_flag)"
   ]
  },
  {
   "cell_type": "code",
   "execution_count": 38,
   "metadata": {},
   "outputs": [],
   "source": [
    "df4 = df3.copy()"
   ]
  },
  {
   "cell_type": "code",
   "execution_count": 39,
   "metadata": {},
   "outputs": [],
   "source": [
    "df4[\"property_id\"] = pd.to_numeric(df4[\"property_id\"])\n",
    "df4[\"parking_space\"] = pd.to_numeric(df4[\"parking_space\"])\n",
    "df4[\"price\"] = pd.to_numeric(df4[\"price\"])\n",
    "df4[\"year\"] = pd.to_numeric(df4[\"year\"])\n",
    "df4[\"bedrooms\"] = pd.to_numeric(df4[\"bedrooms\"])\n",
    "df4[\"bathrooms\"] = pd.to_numeric(df4[\"bathrooms\"])\n",
    "df4[\"distance_to_sc\"] = pd.to_numeric(df4[\"distance_to_sc\"])\n",
    "df4[\"distance_to_train_station\"] = pd.to_numeric(df4[\"distance_to_train_station\"])\n",
    "df4[\"travel_min_to_CBD\"] = pd.to_numeric(df4[\"travel_min_to_CBD\"])\n",
    "df4[\"train_station_id\"] = pd.to_numeric(df4[\"train_station_id\"])\n",
    "df4[\"transfer_flag\"] = pd.to_numeric(df4[\"transfer_flag\"])\n",
    "df4[\"distance_to_hospital\"] = pd.to_numeric(df4[\"distance_to_hospital\"])\n",
    "df4[\"distance_to_supermaket\"] = pd.to_numeric(df4[\"distance_to_supermaket\"])"
   ]
  },
  {
   "cell_type": "code",
   "execution_count": 40,
   "metadata": {},
   "outputs": [
    {
     "name": "stdout",
     "output_type": "stream",
     "text": [
      "<class 'pandas.core.frame.DataFrame'>\n",
      "RangeIndex: 1997 entries, 0 to 1996\n",
      "Data columns (total 21 columns):\n",
      "addr_street                  1997 non-null object\n",
      "bathrooms                    1997 non-null int64\n",
      "bedrooms                     1997 non-null int64\n",
      "lat                          1997 non-null float64\n",
      "lng                          1997 non-null float64\n",
      "parking_space                1997 non-null int64\n",
      "price                        1997 non-null int64\n",
      "property_id                  1997 non-null int64\n",
      "property_type                1997 non-null object\n",
      "year                         1997 non-null int64\n",
      "shopping_center_id           1997 non-null object\n",
      "distance_to_sc               1997 non-null int64\n",
      "train_station_id             1997 non-null int64\n",
      "distance_to_train_station    1997 non-null int64\n",
      "hospital_id                  1997 non-null object\n",
      "distance_to_hospital         1997 non-null int64\n",
      "supermarket_id               1997 non-null object\n",
      "distance_to_supermaket       1997 non-null int64\n",
      "suburb                       1997 non-null object\n",
      "travel_min_to_CBD            1997 non-null int64\n",
      "transfer_flag                1997 non-null int64\n",
      "dtypes: float64(2), int64(13), object(6)\n",
      "memory usage: 327.7+ KB\n"
     ]
    },
    {
     "name": "stderr",
     "output_type": "stream",
     "text": [
      "C:\\Users\\HP WORLD\\Anaconda4\\lib\\site-packages\\ipykernel_launcher.py:12: FutureWarning: convert_objects is deprecated.  To re-infer data dtypes for object columns, use Series.infer_objects()\n",
      "For all other conversions use the data-type specific converters pd.to_datetime, pd.to_timedelta and pd.to_numeric.\n",
      "  if sys.path[0] == '':\n",
      "C:\\Users\\HP WORLD\\Anaconda4\\lib\\site-packages\\ipykernel_launcher.py:16: FutureWarning: convert_objects is deprecated.  To re-infer data dtypes for object columns, use Series.infer_objects()\n",
      "For all other conversions use the data-type specific converters pd.to_datetime, pd.to_timedelta and pd.to_numeric.\n",
      "  app.launch_new_instance()\n"
     ]
    }
   ],
   "source": [
    "import numpy as np\n",
    "df4[\"property_id\"] = df4[\"property_id\"].astype(np.int64)\n",
    "df4[\"parking_space\"] = df4[\"parking_space\"].astype(np.int64)\n",
    "df4[\"price\"] = df4[\"price\"].astype(np.int64)\n",
    "df4[\"year\"] = df4[\"year\"].astype(np.int64)\n",
    "df4[\"bedrooms\"] = df4[\"bedrooms\"].astype(np.int64)\n",
    "df4[\"bathrooms\"] = df4[\"bathrooms\"].astype(np.int64)\n",
    "df4[\"distance_to_sc\"] = df4[\"distance_to_sc\"].astype(np.int64)\n",
    "df4[\"distance_to_train_station\"] = df4[\"distance_to_train_station\"].astype(np.int64)\n",
    "df4[\"travel_min_to_CBD\"] = df4[\"travel_min_to_CBD\"].astype(np.int64)\n",
    "df4[\"train_station_id\"] = df4[\"train_station_id\"].astype(np.int64)\n",
    "df4[\"lat\"] =df4['lat'].convert_objects(convert_numeric=True)\n",
    "df4[\"transfer_flag\"] =df4['transfer_flag'].astype(np.int64)\n",
    "df4[\"distance_to_hospital\"] = df4['distance_to_hospital'].astype(np.int64)\n",
    "df4[\"distance_to_supermaket\"] = df4['distance_to_supermaket'].astype(np.int64)\n",
    "df4[\"lng\"] =df4['lng'].convert_objects(convert_numeric=True)\n",
    "df4.info()"
   ]
  },
  {
   "cell_type": "code",
   "execution_count": 41,
   "metadata": {},
   "outputs": [],
   "source": [
    "df4.to_csv(\"29470811_solution.csv\",index=True)"
   ]
  },
  {
   "cell_type": "code",
   "execution_count": 42,
   "metadata": {},
   "outputs": [
    {
     "name": "stdout",
     "output_type": "stream",
     "text": [
      "<class 'pandas.core.frame.DataFrame'>\n",
      "RangeIndex: 1997 entries, 0 to 1996\n",
      "Data columns (total 21 columns):\n",
      "addr_street                  1997 non-null object\n",
      "bathrooms                    1997 non-null int64\n",
      "bedrooms                     1997 non-null int64\n",
      "lat                          1997 non-null float64\n",
      "lng                          1997 non-null float64\n",
      "parking_space                1997 non-null int64\n",
      "price                        1997 non-null int64\n",
      "property_id                  1997 non-null int64\n",
      "property_type                1997 non-null object\n",
      "year                         1997 non-null int64\n",
      "shopping_center_id           1997 non-null object\n",
      "distance_to_sc               1997 non-null int64\n",
      "train_station_id             1997 non-null int64\n",
      "distance_to_train_station    1997 non-null int64\n",
      "hospital_id                  1997 non-null object\n",
      "distance_to_hospital         1997 non-null int64\n",
      "supermarket_id               1997 non-null object\n",
      "distance_to_supermaket       1997 non-null int64\n",
      "suburb                       1997 non-null object\n",
      "travel_min_to_CBD            1997 non-null int64\n",
      "transfer_flag                1997 non-null int64\n",
      "dtypes: float64(2), int64(13), object(6)\n",
      "memory usage: 327.7+ KB\n"
     ]
    }
   ],
   "source": [
    "df4.info()"
   ]
  },
  {
   "cell_type": "markdown",
   "metadata": {},
   "source": [
    "### Part B: Data reshaping"
   ]
  },
  {
   "cell_type": "markdown",
   "metadata": {},
   "source": [
    "Why Reshaping?\n",
    "\n",
    "Usually when the data which we are working on may not be in the normal form, also the datasets effects the results disproportionately, to level up the data in some standard or normal form we use Normalisation and Transformation techniques."
   ]
  },
  {
   "cell_type": "markdown",
   "metadata": {},
   "source": [
    "#### Data Transformation methods"
   ]
  },
  {
   "cell_type": "markdown",
   "metadata": {},
   "source": [
    "In this section, we will try different transformation techniques on our data, also will see how useful the transformations may be for buildinng our linear model, by looking at the model summary. We will use “bedrooms”, “bathrooms”, “parking_space”, and “property_type” as predictors for our model."
   ]
  },
  {
   "cell_type": "markdown",
   "metadata": {},
   "source": [
    "#### 1. Z-score transformation"
   ]
  },
  {
   "cell_type": "code",
   "execution_count": 43,
   "metadata": {},
   "outputs": [],
   "source": [
    "from sklearn import preprocessing"
   ]
  },
  {
   "cell_type": "code",
   "execution_count": 44,
   "metadata": {},
   "outputs": [],
   "source": [
    "df4 = df5.copy()"
   ]
  },
  {
   "cell_type": "code",
   "execution_count": 45,
   "metadata": {},
   "outputs": [
    {
     "name": "stderr",
     "output_type": "stream",
     "text": [
      "C:\\Users\\HP WORLD\\Anaconda4\\lib\\site-packages\\ipykernel_launcher.py:1: FutureWarning: convert_objects is deprecated.  To re-infer data dtypes for object columns, use Series.infer_objects()\n",
      "For all other conversions use the data-type specific converters pd.to_datetime, pd.to_timedelta and pd.to_numeric.\n",
      "  \"\"\"Entry point for launching an IPython kernel.\n"
     ]
    }
   ],
   "source": [
    "df4[\"price\"] = df4[\"price\"].convert_objects(convert_numeric=True)"
   ]
  },
  {
   "cell_type": "code",
   "execution_count": 46,
   "metadata": {},
   "outputs": [
    {
     "data": {
      "text/plain": [
       "array([[-0.93155903],\n",
       "       [-0.1818363 ],\n",
       "       [-0.75983977],\n",
       "       [-0.90677481],\n",
       "       [-0.91739662]])"
      ]
     },
     "execution_count": 46,
     "metadata": {},
     "output_type": "execute_result"
    }
   ],
   "source": [
    "std_scale = preprocessing.StandardScaler().fit(df4[['price']])\n",
    "df_std = std_scale.transform(df4[['price']]) # an array not a df\n",
    "df_std[0:5]"
   ]
  },
  {
   "cell_type": "code",
   "execution_count": 47,
   "metadata": {},
   "outputs": [
    {
     "data": {
      "text/html": [
       "<div>\n",
       "<style scoped>\n",
       "    .dataframe tbody tr th:only-of-type {\n",
       "        vertical-align: middle;\n",
       "    }\n",
       "\n",
       "    .dataframe tbody tr th {\n",
       "        vertical-align: top;\n",
       "    }\n",
       "\n",
       "    .dataframe thead th {\n",
       "        text-align: right;\n",
       "    }\n",
       "</style>\n",
       "<table border=\"1\" class=\"dataframe\">\n",
       "  <thead>\n",
       "    <tr style=\"text-align: right;\">\n",
       "      <th></th>\n",
       "      <th>addr_street</th>\n",
       "      <th>bathrooms</th>\n",
       "      <th>bedrooms</th>\n",
       "      <th>lat</th>\n",
       "      <th>lng</th>\n",
       "      <th>parking_space</th>\n",
       "      <th>price</th>\n",
       "      <th>property_id</th>\n",
       "      <th>property_type</th>\n",
       "      <th>year</th>\n",
       "      <th>pscaled</th>\n",
       "    </tr>\n",
       "  </thead>\n",
       "  <tbody>\n",
       "    <tr>\n",
       "      <th>0</th>\n",
       "      <td>6 KIATA COURT</td>\n",
       "      <td>1</td>\n",
       "      <td>3</td>\n",
       "      <td>-37.6578</td>\n",
       "      <td>144.93</td>\n",
       "      <td>0</td>\n",
       "      <td>3760000.0</td>\n",
       "      <td>19473</td>\n",
       "      <td>house</td>\n",
       "      <td>2009</td>\n",
       "      <td>-0.931559</td>\n",
       "    </tr>\n",
       "    <tr>\n",
       "      <th>1</th>\n",
       "      <td>11 Brosnan Crescent</td>\n",
       "      <td>1</td>\n",
       "      <td>3</td>\n",
       "      <td>-37.7261</td>\n",
       "      <td>144.919</td>\n",
       "      <td>1</td>\n",
       "      <td>7995000.0</td>\n",
       "      <td>14950</td>\n",
       "      <td>house</td>\n",
       "      <td>2012</td>\n",
       "      <td>-0.181836</td>\n",
       "    </tr>\n",
       "    <tr>\n",
       "      <th>2</th>\n",
       "      <td>49 Hampshire Road</td>\n",
       "      <td>1</td>\n",
       "      <td>3</td>\n",
       "      <td>-37.7923</td>\n",
       "      <td>144.831</td>\n",
       "      <td>1</td>\n",
       "      <td>4730000.0</td>\n",
       "      <td>6765</td>\n",
       "      <td>house</td>\n",
       "      <td>2012</td>\n",
       "      <td>-0.759840</td>\n",
       "    </tr>\n",
       "    <tr>\n",
       "      <th>3</th>\n",
       "      <td>2 King Street</td>\n",
       "      <td>1</td>\n",
       "      <td>3</td>\n",
       "      <td>-37.6681</td>\n",
       "      <td>145.026</td>\n",
       "      <td>1</td>\n",
       "      <td>3900000.0</td>\n",
       "      <td>36241</td>\n",
       "      <td>house</td>\n",
       "      <td>2011</td>\n",
       "      <td>-0.906775</td>\n",
       "    </tr>\n",
       "    <tr>\n",
       "      <th>4</th>\n",
       "      <td>19 Almurta Avenue</td>\n",
       "      <td>1</td>\n",
       "      <td>3</td>\n",
       "      <td>-37.6596</td>\n",
       "      <td>144.934</td>\n",
       "      <td>0</td>\n",
       "      <td>3840000.0</td>\n",
       "      <td>19350</td>\n",
       "      <td>house</td>\n",
       "      <td>2014</td>\n",
       "      <td>-0.917397</td>\n",
       "    </tr>\n",
       "  </tbody>\n",
       "</table>\n",
       "</div>"
      ],
      "text/plain": [
       "           addr_street bathrooms bedrooms      lat      lng parking_space  \\\n",
       "0        6 KIATA COURT         1        3 -37.6578   144.93             0   \n",
       "1  11 Brosnan Crescent         1        3 -37.7261  144.919             1   \n",
       "2    49 Hampshire Road         1        3 -37.7923  144.831             1   \n",
       "3        2 King Street         1        3 -37.6681  145.026             1   \n",
       "4    19 Almurta Avenue         1        3 -37.6596  144.934             0   \n",
       "\n",
       "       price property_id property_type  year   pscaled  \n",
       "0  3760000.0       19473         house  2009 -0.931559  \n",
       "1  7995000.0       14950         house  2012 -0.181836  \n",
       "2  4730000.0        6765         house  2012 -0.759840  \n",
       "3  3900000.0       36241         house  2011 -0.906775  \n",
       "4  3840000.0       19350         house  2014 -0.917397  "
      ]
     },
     "execution_count": 47,
     "metadata": {},
     "output_type": "execute_result"
    }
   ],
   "source": [
    "df4['pscaled'] = df_std[:,0]\n",
    "df4.head()"
   ]
  },
  {
   "cell_type": "code",
   "execution_count": 48,
   "metadata": {},
   "outputs": [
    {
     "data": {
      "text/html": [
       "<div>\n",
       "<style scoped>\n",
       "    .dataframe tbody tr th:only-of-type {\n",
       "        vertical-align: middle;\n",
       "    }\n",
       "\n",
       "    .dataframe tbody tr th {\n",
       "        vertical-align: top;\n",
       "    }\n",
       "\n",
       "    .dataframe thead th {\n",
       "        text-align: right;\n",
       "    }\n",
       "</style>\n",
       "<table border=\"1\" class=\"dataframe\">\n",
       "  <thead>\n",
       "    <tr style=\"text-align: right;\">\n",
       "      <th></th>\n",
       "      <th>price</th>\n",
       "      <th>pscaled</th>\n",
       "    </tr>\n",
       "  </thead>\n",
       "  <tbody>\n",
       "    <tr>\n",
       "      <th>count</th>\n",
       "      <td>1.997000e+03</td>\n",
       "      <td>1.997000e+03</td>\n",
       "    </tr>\n",
       "    <tr>\n",
       "      <th>mean</th>\n",
       "      <td>9.022149e+06</td>\n",
       "      <td>2.801965e-17</td>\n",
       "    </tr>\n",
       "    <tr>\n",
       "      <th>std</th>\n",
       "      <td>5.650170e+06</td>\n",
       "      <td>1.000250e+00</td>\n",
       "    </tr>\n",
       "    <tr>\n",
       "      <th>min</th>\n",
       "      <td>1.200000e+06</td>\n",
       "      <td>-1.384756e+00</td>\n",
       "    </tr>\n",
       "    <tr>\n",
       "      <th>25%</th>\n",
       "      <td>5.278000e+06</td>\n",
       "      <td>-6.628272e-01</td>\n",
       "    </tr>\n",
       "    <tr>\n",
       "      <th>50%</th>\n",
       "      <td>7.553000e+06</td>\n",
       "      <td>-2.600836e-01</td>\n",
       "    </tr>\n",
       "    <tr>\n",
       "      <th>75%</th>\n",
       "      <td>1.096500e+07</td>\n",
       "      <td>3.439433e-01</td>\n",
       "    </tr>\n",
       "    <tr>\n",
       "      <th>max</th>\n",
       "      <td>4.471000e+07</td>\n",
       "      <td>6.317826e+00</td>\n",
       "    </tr>\n",
       "  </tbody>\n",
       "</table>\n",
       "</div>"
      ],
      "text/plain": [
       "              price       pscaled\n",
       "count  1.997000e+03  1.997000e+03\n",
       "mean   9.022149e+06  2.801965e-17\n",
       "std    5.650170e+06  1.000250e+00\n",
       "min    1.200000e+06 -1.384756e+00\n",
       "25%    5.278000e+06 -6.628272e-01\n",
       "50%    7.553000e+06 -2.600836e-01\n",
       "75%    1.096500e+07  3.439433e-01\n",
       "max    4.471000e+07  6.317826e+00"
      ]
     },
     "execution_count": 48,
     "metadata": {},
     "output_type": "execute_result"
    }
   ],
   "source": [
    "df4.describe()"
   ]
  },
  {
   "cell_type": "markdown",
   "metadata": {},
   "source": [
    "Will see if the mean is zero and the standard deviation is 1 after transformation"
   ]
  },
  {
   "cell_type": "code",
   "execution_count": 49,
   "metadata": {},
   "outputs": [
    {
     "name": "stdout",
     "output_type": "stream",
     "text": [
      "Mean after standardisation:\n",
      "Price = 0.00\n",
      "\n",
      "Standard deviation after standardisation:\n",
      "Price = 1.00\n"
     ]
    }
   ],
   "source": [
    "print('Mean after standardisation:\\nPrice = {:.2f}'\n",
    "      .format(df_std[:,0].mean()))\n",
    "print('\\nStandard deviation after standardisation:\\nPrice = {:.2f}'\n",
    "      .format(df_std[:,0].std()))"
   ]
  },
  {
   "cell_type": "markdown",
   "metadata": {},
   "source": [
    "Plotting histogram for the original price value and the z transformed standardised value"
   ]
  },
  {
   "cell_type": "code",
   "execution_count": 50,
   "metadata": {},
   "outputs": [
    {
     "data": {
      "image/png": "[encoded data removed]",
      "text/plain": [
       "<Figure size 432x288 with 1 Axes>"
      ]
     },
     "metadata": {},
     "output_type": "display_data"
    }
   ],
   "source": [
    "plt.hist(df4['price'],bins=10)\n",
    "plt.show()"
   ]
  },
  {
   "cell_type": "code",
   "execution_count": 51,
   "metadata": {},
   "outputs": [
    {
     "data": {
      "image/png": "[encoded data removed]",
      "text/plain": [
       "<Figure size 432x288 with 1 Axes>"
      ]
     },
     "metadata": {},
     "output_type": "display_data"
    }
   ],
   "source": [
    "plt.hist(df4['pscaled'],bins=10)\n",
    "plt.show()"
   ]
  },
  {
   "cell_type": "markdown",
   "metadata": {},
   "source": [
    "Fitting linear model for the transformed data and analysing the summary"
   ]
  },
  {
   "cell_type": "code",
   "execution_count": 52,
   "metadata": {},
   "outputs": [
    {
     "name": "stderr",
     "output_type": "stream",
     "text": [
      "C:\\Users\\HP WORLD\\Anaconda4\\lib\\site-packages\\ipykernel_launcher.py:1: FutureWarning: convert_objects is deprecated.  To re-infer data dtypes for object columns, use Series.infer_objects()\n",
      "For all other conversions use the data-type specific converters pd.to_datetime, pd.to_timedelta and pd.to_numeric.\n",
      "  \"\"\"Entry point for launching an IPython kernel.\n",
      "C:\\Users\\HP WORLD\\Anaconda4\\lib\\site-packages\\ipykernel_launcher.py:2: FutureWarning: convert_objects is deprecated.  To re-infer data dtypes for object columns, use Series.infer_objects()\n",
      "For all other conversions use the data-type specific converters pd.to_datetime, pd.to_timedelta and pd.to_numeric.\n",
      "  \n",
      "C:\\Users\\HP WORLD\\Anaconda4\\lib\\site-packages\\ipykernel_launcher.py:3: FutureWarning: convert_objects is deprecated.  To re-infer data dtypes for object columns, use Series.infer_objects()\n",
      "For all other conversions use the data-type specific converters pd.to_datetime, pd.to_timedelta and pd.to_numeric.\n",
      "  This is separate from the ipykernel package so we can avoid doing imports until\n",
      "C:\\Users\\HP WORLD\\Anaconda4\\lib\\site-packages\\sklearn\\cross_validation.py:41: DeprecationWarning: This module was deprecated in version 0.18 in favor of the model_selection module into which all the refactored classes and functions are moved. Also note that the interface of the new CV iterators are different from that of this module. This module will be removed in 0.20.\n",
      "  \"This module will be removed in 0.20.\", DeprecationWarning)\n",
      "C:\\Users\\HP WORLD\\Anaconda4\\lib\\site-packages\\statsmodels\\compat\\pandas.py:56: FutureWarning: The pandas.core.datetools module is deprecated and will be removed in a future version. Please use the pandas.tseries module instead.\n",
      "  from pandas.core import datetools\n"
     ]
    },
    {
     "data": {
      "text/html": [
       "<table class=\"simpletable\">\n",
       "<caption>OLS Regression Results</caption>\n",
       "<tr>\n",
       "  <th>Dep. Variable:</th>         <td>pscaled</td>     <th>  R-squared:         </th> <td>   0.018</td>\n",
       "</tr>\n",
       "<tr>\n",
       "  <th>Model:</th>                   <td>OLS</td>       <th>  Adj. R-squared:    </th> <td>   0.016</td>\n",
       "</tr>\n",
       "<tr>\n",
       "  <th>Method:</th>             <td>Least Squares</td>  <th>  F-statistic:       </th> <td>   9.290</td>\n",
       "</tr>\n",
       "<tr>\n",
       "  <th>Date:</th>             <td>Fri, 26 Oct 2018</td> <th>  Prob (F-statistic):</th> <td>4.36e-06</td>\n",
       "</tr>\n",
       "<tr>\n",
       "  <th>Time:</th>                 <td>22:24:08</td>     <th>  Log-Likelihood:    </th> <td> -2120.2</td>\n",
       "</tr>\n",
       "<tr>\n",
       "  <th>No. Observations:</th>      <td>  1497</td>      <th>  AIC:               </th> <td>   4246.</td>\n",
       "</tr>\n",
       "<tr>\n",
       "  <th>Df Residuals:</th>          <td>  1494</td>      <th>  BIC:               </th> <td>   4262.</td>\n",
       "</tr>\n",
       "<tr>\n",
       "  <th>Df Model:</th>              <td>     3</td>      <th>                     </th>     <td> </td>   \n",
       "</tr>\n",
       "<tr>\n",
       "  <th>Covariance Type:</th>      <td>nonrobust</td>    <th>                     </th>     <td> </td>   \n",
       "</tr>\n",
       "</table>\n",
       "<table class=\"simpletable\">\n",
       "<tr>\n",
       "        <td></td>           <th>coef</th>     <th>std err</th>      <th>t</th>      <th>P>|t|</th>  <th>[0.025</th>    <th>0.975]</th>  \n",
       "</tr>\n",
       "<tr>\n",
       "  <th>bathrooms</th>     <td>    0.2364</td> <td>    0.053</td> <td>    4.497</td> <td> 0.000</td> <td>    0.133</td> <td>    0.340</td>\n",
       "</tr>\n",
       "<tr>\n",
       "  <th>bedrooms</th>      <td>   -0.0679</td> <td>    0.030</td> <td>   -2.268</td> <td> 0.023</td> <td>   -0.127</td> <td>   -0.009</td>\n",
       "</tr>\n",
       "<tr>\n",
       "  <th>parking_space</th> <td>   -0.0550</td> <td>    0.036</td> <td>   -1.538</td> <td> 0.124</td> <td>   -0.125</td> <td>    0.015</td>\n",
       "</tr>\n",
       "</table>\n",
       "<table class=\"simpletable\">\n",
       "<tr>\n",
       "  <th>Omnibus:</th>       <td>547.585</td> <th>  Durbin-Watson:     </th> <td>   1.959</td>\n",
       "</tr>\n",
       "<tr>\n",
       "  <th>Prob(Omnibus):</th> <td> 0.000</td>  <th>  Jarque-Bera (JB):  </th> <td>1992.882</td>\n",
       "</tr>\n",
       "<tr>\n",
       "  <th>Skew:</th>          <td> 1.787</td>  <th>  Prob(JB):          </th> <td>    0.00</td>\n",
       "</tr>\n",
       "<tr>\n",
       "  <th>Kurtosis:</th>      <td> 7.380</td>  <th>  Cond. No.          </th> <td>    8.95</td>\n",
       "</tr>\n",
       "</table>"
      ],
      "text/plain": [
       "<class 'statsmodels.iolib.summary.Summary'>\n",
       "\"\"\"\n",
       "                            OLS Regression Results                            \n",
       "==============================================================================\n",
       "Dep. Variable:                pscaled   R-squared:                       0.018\n",
       "Model:                            OLS   Adj. R-squared:                  0.016\n",
       "Method:                 Least Squares   F-statistic:                     9.290\n",
       "Date:                Fri, 26 Oct 2018   Prob (F-statistic):           4.36e-06\n",
       "Time:                        22:24:08   Log-Likelihood:                -2120.2\n",
       "No. Observations:                1497   AIC:                             4246.\n",
       "Df Residuals:                    1494   BIC:                             4262.\n",
       "Df Model:                           3                                         \n",
       "Covariance Type:            nonrobust                                         \n",
       "=================================================================================\n",
       "                    coef    std err          t      P>|t|      [0.025      0.975]\n",
       "---------------------------------------------------------------------------------\n",
       "bathrooms         0.2364      0.053      4.497      0.000       0.133       0.340\n",
       "bedrooms         -0.0679      0.030     -2.268      0.023      -0.127      -0.009\n",
       "parking_space    -0.0550      0.036     -1.538      0.124      -0.125       0.015\n",
       "==============================================================================\n",
       "Omnibus:                      547.585   Durbin-Watson:                   1.959\n",
       "Prob(Omnibus):                  0.000   Jarque-Bera (JB):             1992.882\n",
       "Skew:                           1.787   Prob(JB):                         0.00\n",
       "Kurtosis:                       7.380   Cond. No.                         8.95\n",
       "==============================================================================\n",
       "\n",
       "Warnings:\n",
       "[1] Standard Errors assume that the covariance matrix of the errors is correctly specified.\n",
       "\"\"\""
      ]
     },
     "execution_count": 52,
     "metadata": {},
     "output_type": "execute_result"
    }
   ],
   "source": [
    "df4['bedrooms'] = df4[\"bedrooms\"].convert_objects(convert_numeric=True)\n",
    "df4['bathrooms'] = df4[\"bathrooms\"].convert_objects(convert_numeric=True)\n",
    "df4['parking_space'] = df4[\"parking_space\"].convert_objects(convert_numeric=True)\n",
    "df4['property_type'] = df4['property_type'].map({'house':1})\n",
    "df_train = df4.drop(columns=['property_type','year','addr_street', 'lng','lat','property_id','price'])\n",
    "\n",
    "from sklearn.cross_validation import train_test_split\n",
    "from sklearn.linear_model import LinearRegression\n",
    "from sklearn.datasets import load_boston\n",
    "from sklearn.metrics import mean_squared_error\n",
    "import statsmodels.api as sm\n",
    "import sklearn\n",
    "%matplotlib inline\n",
    "X_train, X_test, y_train, y_test = train_test_split(df_train.iloc[:,:-1],df_train.iloc[:,-1:],random_state=111)\n",
    "lm_full = LinearRegression()\n",
    "model = sm.OLS(y_train,X_train).fit()\n",
    "#model  =lm_full.fit()\n",
    "y_pred = model.predict(X_test)\n",
    "#print ('r-squared for this model = ',lm_full.score(X_test,y_test))\n",
    "model.summary()"
   ]
  },
  {
   "cell_type": "markdown",
   "metadata": {},
   "source": [
    "The results shows that R-squared value is 0.018 which is not a good value, if we look at the histogram plot it is right skewed, hence this transformation will not hold good for a linear model."
   ]
  },
  {
   "cell_type": "markdown",
   "metadata": {},
   "source": [
    "#### 2.Min Max normalisation"
   ]
  },
  {
   "cell_type": "code",
   "execution_count": 53,
   "metadata": {},
   "outputs": [
    {
     "name": "stderr",
     "output_type": "stream",
     "text": [
      "C:\\Users\\HP WORLD\\Anaconda4\\lib\\site-packages\\ipykernel_launcher.py:2: FutureWarning: convert_objects is deprecated.  To re-infer data dtypes for object columns, use Series.infer_objects()\n",
      "For all other conversions use the data-type specific converters pd.to_datetime, pd.to_timedelta and pd.to_numeric.\n",
      "  \n"
     ]
    },
    {
     "data": {
      "text/plain": [
       "array([[0.05883705],\n",
       "       [0.156171  ],\n",
       "       [0.08113077],\n",
       "       [0.0620547 ],\n",
       "       [0.06067571]])"
      ]
     },
     "execution_count": 53,
     "metadata": {},
     "output_type": "execute_result"
    }
   ],
   "source": [
    "df4 = df5.copy()\n",
    "df4[\"price\"] = df4[\"price\"].convert_objects(convert_numeric=True)\n",
    "minmax_scale = preprocessing.MinMaxScaler().fit(df4[['price']])\n",
    "df_minmax = minmax_scale.transform(df4[['price']])\n",
    "df_minmax[0:5]"
   ]
  },
  {
   "cell_type": "code",
   "execution_count": 54,
   "metadata": {},
   "outputs": [
    {
     "data": {
      "text/plain": [
       "(1200000.0, 44710000.0)"
      ]
     },
     "execution_count": 54,
     "metadata": {},
     "output_type": "execute_result"
    }
   ],
   "source": [
    "minA = df4['price'].min()\n",
    "maxA = df4['price'].max()\n",
    "minA, maxA"
   ]
  },
  {
   "cell_type": "code",
   "execution_count": 55,
   "metadata": {},
   "outputs": [
    {
     "data": {
      "text/plain": [
       "0.058837048954263386"
      ]
     },
     "execution_count": 55,
     "metadata": {},
     "output_type": "execute_result"
    }
   ],
   "source": [
    "a = df4.price[0] # the first value, for practice\n",
    "#Write you code here\n",
    "mma = (a - minA) / (maxA - minA)\n",
    "mma"
   ]
  },
  {
   "cell_type": "code",
   "execution_count": 56,
   "metadata": {},
   "outputs": [
    {
     "data": {
      "text/plain": [
       "0.058837048954263386"
      ]
     },
     "execution_count": 56,
     "metadata": {},
     "output_type": "execute_result"
    }
   ],
   "source": [
    "df_minmax[0][0]"
   ]
  },
  {
   "cell_type": "markdown",
   "metadata": {},
   "source": [
    "Comparing the manually computed and the value given by MinMaxScaler, both the values are same"
   ]
  },
  {
   "cell_type": "markdown",
   "metadata": {},
   "source": [
    "Normalising the maximum value, which should be equal to 1"
   ]
  },
  {
   "cell_type": "code",
   "execution_count": 57,
   "metadata": {},
   "outputs": [
    {
     "data": {
      "text/plain": [
       "1706    1.0\n",
       "Name: price, dtype: float64"
      ]
     },
     "execution_count": 57,
     "metadata": {},
     "output_type": "execute_result"
    }
   ],
   "source": [
    "a = df4[df4.price == df4.price.max()].price\n",
    "mma = (a - minA) / (maxA - minA)\n",
    "mma"
   ]
  },
  {
   "cell_type": "markdown",
   "metadata": {},
   "source": [
    "The minimum and the maximum value after normalising will be 0 and 1 respectively"
   ]
  },
  {
   "cell_type": "code",
   "execution_count": 58,
   "metadata": {},
   "outputs": [
    {
     "name": "stdout",
     "output_type": "stream",
     "text": [
      "Min-value after min-max scaling:\n",
      "Price = 0.00\n",
      "\n",
      "Max-value after min-max scaling:\n",
      "Price = 1.00\n"
     ]
    }
   ],
   "source": [
    "print('Min-value after min-max scaling:\\nPrice = {:.2f}'\n",
    "      .format(df_minmax[:,0].min()))\n",
    "print('\\nMax-value after min-max scaling:\\nPrice = {:.2f}'\n",
    "      .format(df_minmax[:,0].max()))"
   ]
  },
  {
   "cell_type": "code",
   "execution_count": 59,
   "metadata": {},
   "outputs": [],
   "source": [
    "df4['sscaled']=df_minmax[:,0]"
   ]
  },
  {
   "cell_type": "markdown",
   "metadata": {},
   "source": [
    "Plotting the computed and the actual value using histogram"
   ]
  },
  {
   "cell_type": "code",
   "execution_count": 60,
   "metadata": {},
   "outputs": [
    {
     "data": {
      "image/png": "[encoded data removed]",
      "text/plain": [
       "<Figure size 432x288 with 1 Axes>"
      ]
     },
     "metadata": {},
     "output_type": "display_data"
    }
   ],
   "source": [
    "plt.hist(df4['price'],bins=10)\n",
    "plt.show()"
   ]
  },
  {
   "cell_type": "code",
   "execution_count": 61,
   "metadata": {},
   "outputs": [
    {
     "data": {
      "image/png": "[encoded data removed]",
      "text/plain": [
       "<Figure size 432x288 with 1 Axes>"
      ]
     },
     "metadata": {},
     "output_type": "display_data"
    }
   ],
   "source": [
    "plt.hist(df4['sscaled'],bins=10)\n",
    "plt.show()"
   ]
  },
  {
   "cell_type": "markdown",
   "metadata": {},
   "source": [
    "Fitting linear model for the transformed data and analysing the summary"
   ]
  },
  {
   "cell_type": "code",
   "execution_count": 62,
   "metadata": {},
   "outputs": [
    {
     "name": "stderr",
     "output_type": "stream",
     "text": [
      "C:\\Users\\HP WORLD\\Anaconda4\\lib\\site-packages\\ipykernel_launcher.py:1: FutureWarning: convert_objects is deprecated.  To re-infer data dtypes for object columns, use Series.infer_objects()\n",
      "For all other conversions use the data-type specific converters pd.to_datetime, pd.to_timedelta and pd.to_numeric.\n",
      "  \"\"\"Entry point for launching an IPython kernel.\n",
      "C:\\Users\\HP WORLD\\Anaconda4\\lib\\site-packages\\ipykernel_launcher.py:2: FutureWarning: convert_objects is deprecated.  To re-infer data dtypes for object columns, use Series.infer_objects()\n",
      "For all other conversions use the data-type specific converters pd.to_datetime, pd.to_timedelta and pd.to_numeric.\n",
      "  \n",
      "C:\\Users\\HP WORLD\\Anaconda4\\lib\\site-packages\\ipykernel_launcher.py:3: FutureWarning: convert_objects is deprecated.  To re-infer data dtypes for object columns, use Series.infer_objects()\n",
      "For all other conversions use the data-type specific converters pd.to_datetime, pd.to_timedelta and pd.to_numeric.\n",
      "  This is separate from the ipykernel package so we can avoid doing imports until\n"
     ]
    },
    {
     "data": {
      "text/html": [
       "<table class=\"simpletable\">\n",
       "<caption>OLS Regression Results</caption>\n",
       "<tr>\n",
       "  <th>Dep. Variable:</th>         <td>sscaled</td>     <th>  R-squared:         </th> <td>   0.682</td>\n",
       "</tr>\n",
       "<tr>\n",
       "  <th>Model:</th>                   <td>OLS</td>       <th>  Adj. R-squared:    </th> <td>   0.681</td>\n",
       "</tr>\n",
       "<tr>\n",
       "  <th>Method:</th>             <td>Least Squares</td>  <th>  F-statistic:       </th> <td>   1067.</td>\n",
       "</tr>\n",
       "<tr>\n",
       "  <th>Date:</th>             <td>Fri, 26 Oct 2018</td> <th>  Prob (F-statistic):</th>  <td>  0.00</td> \n",
       "</tr>\n",
       "<tr>\n",
       "  <th>Time:</th>                 <td>22:24:09</td>     <th>  Log-Likelihood:    </th> <td>  979.95</td>\n",
       "</tr>\n",
       "<tr>\n",
       "  <th>No. Observations:</th>      <td>  1497</td>      <th>  AIC:               </th> <td>  -1954.</td>\n",
       "</tr>\n",
       "<tr>\n",
       "  <th>Df Residuals:</th>          <td>  1494</td>      <th>  BIC:               </th> <td>  -1938.</td>\n",
       "</tr>\n",
       "<tr>\n",
       "  <th>Df Model:</th>              <td>     3</td>      <th>                     </th>     <td> </td>   \n",
       "</tr>\n",
       "<tr>\n",
       "  <th>Covariance Type:</th>      <td>nonrobust</td>    <th>                     </th>     <td> </td>   \n",
       "</tr>\n",
       "</table>\n",
       "<table class=\"simpletable\">\n",
       "<tr>\n",
       "        <td></td>           <th>coef</th>     <th>std err</th>      <th>t</th>      <th>P>|t|</th>  <th>[0.025</th>    <th>0.975]</th>  \n",
       "</tr>\n",
       "<tr>\n",
       "  <th>bathrooms</th>     <td>    0.0299</td> <td>    0.007</td> <td>    4.511</td> <td> 0.000</td> <td>    0.017</td> <td>    0.043</td>\n",
       "</tr>\n",
       "<tr>\n",
       "  <th>bedrooms</th>      <td>    0.0413</td> <td>    0.004</td> <td>   10.941</td> <td> 0.000</td> <td>    0.034</td> <td>    0.049</td>\n",
       "</tr>\n",
       "<tr>\n",
       "  <th>parking_space</th> <td>    0.0005</td> <td>    0.005</td> <td>    0.108</td> <td> 0.914</td> <td>   -0.008</td> <td>    0.009</td>\n",
       "</tr>\n",
       "</table>\n",
       "<table class=\"simpletable\">\n",
       "<tr>\n",
       "  <th>Omnibus:</th>       <td>447.285</td> <th>  Durbin-Watson:     </th> <td>   1.974</td> \n",
       "</tr>\n",
       "<tr>\n",
       "  <th>Prob(Omnibus):</th> <td> 0.000</td>  <th>  Jarque-Bera (JB):  </th> <td>1296.051</td> \n",
       "</tr>\n",
       "<tr>\n",
       "  <th>Skew:</th>          <td> 1.527</td>  <th>  Prob(JB):          </th> <td>3.68e-282</td>\n",
       "</tr>\n",
       "<tr>\n",
       "  <th>Kurtosis:</th>      <td> 6.384</td>  <th>  Cond. No.          </th> <td>    8.95</td> \n",
       "</tr>\n",
       "</table>"
      ],
      "text/plain": [
       "<class 'statsmodels.iolib.summary.Summary'>\n",
       "\"\"\"\n",
       "                            OLS Regression Results                            \n",
       "==============================================================================\n",
       "Dep. Variable:                sscaled   R-squared:                       0.682\n",
       "Model:                            OLS   Adj. R-squared:                  0.681\n",
       "Method:                 Least Squares   F-statistic:                     1067.\n",
       "Date:                Fri, 26 Oct 2018   Prob (F-statistic):               0.00\n",
       "Time:                        22:24:09   Log-Likelihood:                 979.95\n",
       "No. Observations:                1497   AIC:                            -1954.\n",
       "Df Residuals:                    1494   BIC:                            -1938.\n",
       "Df Model:                           3                                         \n",
       "Covariance Type:            nonrobust                                         \n",
       "=================================================================================\n",
       "                    coef    std err          t      P>|t|      [0.025      0.975]\n",
       "---------------------------------------------------------------------------------\n",
       "bathrooms         0.0299      0.007      4.511      0.000       0.017       0.043\n",
       "bedrooms          0.0413      0.004     10.941      0.000       0.034       0.049\n",
       "parking_space     0.0005      0.005      0.108      0.914      -0.008       0.009\n",
       "==============================================================================\n",
       "Omnibus:                      447.285   Durbin-Watson:                   1.974\n",
       "Prob(Omnibus):                  0.000   Jarque-Bera (JB):             1296.051\n",
       "Skew:                           1.527   Prob(JB):                    3.68e-282\n",
       "Kurtosis:                       6.384   Cond. No.                         8.95\n",
       "==============================================================================\n",
       "\n",
       "Warnings:\n",
       "[1] Standard Errors assume that the covariance matrix of the errors is correctly specified.\n",
       "\"\"\""
      ]
     },
     "execution_count": 62,
     "metadata": {},
     "output_type": "execute_result"
    }
   ],
   "source": [
    "df4['bedrooms'] = df4[\"bedrooms\"].convert_objects(convert_numeric=True)\n",
    "df4['bathrooms'] = df4[\"bathrooms\"].convert_objects(convert_numeric=True)\n",
    "df4['parking_space'] = df4[\"parking_space\"].convert_objects(convert_numeric=True)\n",
    "df4['property_type'] = df4['property_type'].map({'house':1})\n",
    "df_train = df4.drop(columns=['property_type','year','addr_street', 'lng','lat','property_id','price'])\n",
    "\n",
    "from sklearn.cross_validation import train_test_split\n",
    "from sklearn.linear_model import LinearRegression\n",
    "from sklearn.datasets import load_boston\n",
    "from sklearn.metrics import mean_squared_error\n",
    "import statsmodels.api as sm\n",
    "import sklearn\n",
    "%matplotlib inline\n",
    "X_train, X_test, y_train, y_test = train_test_split(df_train.iloc[:,:-1],df_train.iloc[:,-1:],random_state=111)\n",
    "lm_full = LinearRegression()\n",
    "model = sm.OLS(y_train,X_train).fit()\n",
    "#model  =lm_full.fit()\n",
    "y_pred = model.predict(X_test)\n",
    "#print ('r-squared for this model = ',lm_full.score(X_test,y_test))\n",
    "model.summary()"
   ]
  },
  {
   "cell_type": "markdown",
   "metadata": {},
   "source": [
    "Looking at the R squared value which has improved compared to the z transformation, but the skew is still postive and it is right skewed"
   ]
  },
  {
   "cell_type": "markdown",
   "metadata": {},
   "source": [
    "#### 3.Root transformation\n",
    "\n",
    "We use square root method to transform the data to standardise and check if the transformation fits better for linear model."
   ]
  },
  {
   "cell_type": "code",
   "execution_count": 63,
   "metadata": {},
   "outputs": [
    {
     "name": "stderr",
     "output_type": "stream",
     "text": [
      "C:\\Users\\HP WORLD\\Anaconda4\\lib\\site-packages\\ipykernel_launcher.py:3: FutureWarning: convert_objects is deprecated.  To re-infer data dtypes for object columns, use Series.infer_objects()\n",
      "For all other conversions use the data-type specific converters pd.to_datetime, pd.to_timedelta and pd.to_numeric.\n",
      "  This is separate from the ipykernel package so we can avoid doing imports until\n"
     ]
    }
   ],
   "source": [
    "import math\n",
    "df4 = df5.copy()\n",
    "df4['price'] = df4[\"price\"].convert_objects(convert_numeric=True)\n",
    "df4['lmr'] = None\n",
    "i = 0\n",
    "for row in df4.iterrows():\n",
    "    df4['lmr'].at[i] = math.sqrt(df4[\"price\"][i])\n",
    "    i += 1"
   ]
  },
  {
   "cell_type": "code",
   "execution_count": 64,
   "metadata": {},
   "outputs": [
    {
     "name": "stderr",
     "output_type": "stream",
     "text": [
      "C:\\Users\\HP WORLD\\Anaconda4\\lib\\site-packages\\ipykernel_launcher.py:1: FutureWarning: convert_objects is deprecated.  To re-infer data dtypes for object columns, use Series.infer_objects()\n",
      "For all other conversions use the data-type specific converters pd.to_datetime, pd.to_timedelta and pd.to_numeric.\n",
      "  \"\"\"Entry point for launching an IPython kernel.\n"
     ]
    }
   ],
   "source": [
    "df4['lmr'] = df4[\"lmr\"].convert_objects(convert_numeric=True)"
   ]
  },
  {
   "cell_type": "markdown",
   "metadata": {},
   "source": [
    "Plotting Histogram for the square rooted values"
   ]
  },
  {
   "cell_type": "code",
   "execution_count": 65,
   "metadata": {},
   "outputs": [
    {
     "data": {
      "image/png": "[encoded data removed]",
      "text/plain": [
       "<Figure size 432x288 with 1 Axes>"
      ]
     },
     "metadata": {},
     "output_type": "display_data"
    }
   ],
   "source": [
    "plt.hist(df4[\"lmr\"])\n",
    "plt.show()"
   ]
  },
  {
   "cell_type": "markdown",
   "metadata": {},
   "source": [
    "This model looks better, by observing that the skewness has reduced"
   ]
  },
  {
   "cell_type": "markdown",
   "metadata": {},
   "source": [
    "Fitting linear model for the transformed data and analysing the summary"
   ]
  },
  {
   "cell_type": "code",
   "execution_count": 66,
   "metadata": {},
   "outputs": [
    {
     "name": "stderr",
     "output_type": "stream",
     "text": [
      "C:\\Users\\HP WORLD\\Anaconda4\\lib\\site-packages\\ipykernel_launcher.py:1: FutureWarning: convert_objects is deprecated.  To re-infer data dtypes for object columns, use Series.infer_objects()\n",
      "For all other conversions use the data-type specific converters pd.to_datetime, pd.to_timedelta and pd.to_numeric.\n",
      "  \"\"\"Entry point for launching an IPython kernel.\n",
      "C:\\Users\\HP WORLD\\Anaconda4\\lib\\site-packages\\ipykernel_launcher.py:2: FutureWarning: convert_objects is deprecated.  To re-infer data dtypes for object columns, use Series.infer_objects()\n",
      "For all other conversions use the data-type specific converters pd.to_datetime, pd.to_timedelta and pd.to_numeric.\n",
      "  \n",
      "C:\\Users\\HP WORLD\\Anaconda4\\lib\\site-packages\\ipykernel_launcher.py:3: FutureWarning: convert_objects is deprecated.  To re-infer data dtypes for object columns, use Series.infer_objects()\n",
      "For all other conversions use the data-type specific converters pd.to_datetime, pd.to_timedelta and pd.to_numeric.\n",
      "  This is separate from the ipykernel package so we can avoid doing imports until\n"
     ]
    },
    {
     "data": {
      "text/html": [
       "<table class=\"simpletable\">\n",
       "<caption>OLS Regression Results</caption>\n",
       "<tr>\n",
       "  <th>Dep. Variable:</th>           <td>lmr</td>       <th>  R-squared:         </th> <td>   0.903</td> \n",
       "</tr>\n",
       "<tr>\n",
       "  <th>Model:</th>                   <td>OLS</td>       <th>  Adj. R-squared:    </th> <td>   0.903</td> \n",
       "</tr>\n",
       "<tr>\n",
       "  <th>Method:</th>             <td>Least Squares</td>  <th>  F-statistic:       </th> <td>   4659.</td> \n",
       "</tr>\n",
       "<tr>\n",
       "  <th>Date:</th>             <td>Fri, 26 Oct 2018</td> <th>  Prob (F-statistic):</th>  <td>  0.00</td>  \n",
       "</tr>\n",
       "<tr>\n",
       "  <th>Time:</th>                 <td>22:24:10</td>     <th>  Log-Likelihood:    </th> <td> -12365.</td> \n",
       "</tr>\n",
       "<tr>\n",
       "  <th>No. Observations:</th>      <td>  1497</td>      <th>  AIC:               </th> <td>2.474e+04</td>\n",
       "</tr>\n",
       "<tr>\n",
       "  <th>Df Residuals:</th>          <td>  1494</td>      <th>  BIC:               </th> <td>2.475e+04</td>\n",
       "</tr>\n",
       "<tr>\n",
       "  <th>Df Model:</th>              <td>     3</td>      <th>                     </th>     <td> </td>    \n",
       "</tr>\n",
       "<tr>\n",
       "  <th>Covariance Type:</th>      <td>nonrobust</td>    <th>                     </th>     <td> </td>    \n",
       "</tr>\n",
       "</table>\n",
       "<table class=\"simpletable\">\n",
       "<tr>\n",
       "        <td></td>           <th>coef</th>     <th>std err</th>      <th>t</th>      <th>P>|t|</th>  <th>[0.025</th>    <th>0.975]</th>  \n",
       "</tr>\n",
       "<tr>\n",
       "  <th>bathrooms</th>     <td>  165.2213</td> <td>   49.296</td> <td>    3.352</td> <td> 0.001</td> <td>   68.524</td> <td>  261.919</td>\n",
       "</tr>\n",
       "<tr>\n",
       "  <th>bedrooms</th>      <td>  754.7574</td> <td>   28.068</td> <td>   26.891</td> <td> 0.000</td> <td>  699.701</td> <td>  809.814</td>\n",
       "</tr>\n",
       "<tr>\n",
       "  <th>parking_space</th> <td>   79.0055</td> <td>   33.537</td> <td>    2.356</td> <td> 0.019</td> <td>   13.222</td> <td>  144.789</td>\n",
       "</tr>\n",
       "</table>\n",
       "<table class=\"simpletable\">\n",
       "<tr>\n",
       "  <th>Omnibus:</th>       <td>24.541</td> <th>  Durbin-Watson:     </th> <td>   1.987</td>\n",
       "</tr>\n",
       "<tr>\n",
       "  <th>Prob(Omnibus):</th> <td> 0.000</td> <th>  Jarque-Bera (JB):  </th> <td>  25.455</td>\n",
       "</tr>\n",
       "<tr>\n",
       "  <th>Skew:</th>          <td> 0.319</td> <th>  Prob(JB):          </th> <td>2.97e-06</td>\n",
       "</tr>\n",
       "<tr>\n",
       "  <th>Kurtosis:</th>      <td> 3.014</td> <th>  Cond. No.          </th> <td>    8.95</td>\n",
       "</tr>\n",
       "</table>"
      ],
      "text/plain": [
       "<class 'statsmodels.iolib.summary.Summary'>\n",
       "\"\"\"\n",
       "                            OLS Regression Results                            \n",
       "==============================================================================\n",
       "Dep. Variable:                    lmr   R-squared:                       0.903\n",
       "Model:                            OLS   Adj. R-squared:                  0.903\n",
       "Method:                 Least Squares   F-statistic:                     4659.\n",
       "Date:                Fri, 26 Oct 2018   Prob (F-statistic):               0.00\n",
       "Time:                        22:24:10   Log-Likelihood:                -12365.\n",
       "No. Observations:                1497   AIC:                         2.474e+04\n",
       "Df Residuals:                    1494   BIC:                         2.475e+04\n",
       "Df Model:                           3                                         \n",
       "Covariance Type:            nonrobust                                         \n",
       "=================================================================================\n",
       "                    coef    std err          t      P>|t|      [0.025      0.975]\n",
       "---------------------------------------------------------------------------------\n",
       "bathrooms       165.2213     49.296      3.352      0.001      68.524     261.919\n",
       "bedrooms        754.7574     28.068     26.891      0.000     699.701     809.814\n",
       "parking_space    79.0055     33.537      2.356      0.019      13.222     144.789\n",
       "==============================================================================\n",
       "Omnibus:                       24.541   Durbin-Watson:                   1.987\n",
       "Prob(Omnibus):                  0.000   Jarque-Bera (JB):               25.455\n",
       "Skew:                           0.319   Prob(JB):                     2.97e-06\n",
       "Kurtosis:                       3.014   Cond. No.                         8.95\n",
       "==============================================================================\n",
       "\n",
       "Warnings:\n",
       "[1] Standard Errors assume that the covariance matrix of the errors is correctly specified.\n",
       "\"\"\""
      ]
     },
     "execution_count": 66,
     "metadata": {},
     "output_type": "execute_result"
    }
   ],
   "source": [
    "df4['bedrooms'] = df4[\"bedrooms\"].convert_objects(convert_numeric=True)\n",
    "df4['bathrooms'] = df4[\"bathrooms\"].convert_objects(convert_numeric=True)\n",
    "df4['parking_space'] = df4[\"parking_space\"].convert_objects(convert_numeric=True)\n",
    "df4['property_type'] = df4['property_type'].map({'house':1})\n",
    "df_train = df4.drop(columns=['property_type','year','addr_street', 'lng','lat','property_id','price'])\n",
    "\n",
    "from sklearn.cross_validation import train_test_split\n",
    "from sklearn.linear_model import LinearRegression\n",
    "from sklearn.datasets import load_boston\n",
    "from sklearn.metrics import mean_squared_error\n",
    "import statsmodels.api as sm\n",
    "import sklearn\n",
    "%matplotlib inline\n",
    "X_train, X_test, y_train, y_test = train_test_split(df_train.iloc[:,:-1],df_train.iloc[:,-1:],random_state=111)\n",
    "lm_full = LinearRegression()\n",
    "model = sm.OLS(y_train,X_train).fit()\n",
    "#model  =lm_full.fit()\n",
    "y_pred = model.predict(X_test)\n",
    "#print ('r-squared for this model = ',lm_full.score(X_test,y_test))\n",
    "model.summary()"
   ]
  },
  {
   "cell_type": "markdown",
   "metadata": {},
   "source": [
    "The R square value has increased, skewness is also less, we can use this transformation for our model, but we will consider other two transformation techniques to see the accuracy."
   ]
  },
  {
   "cell_type": "markdown",
   "metadata": {},
   "source": [
    "#### 4.Square power transformation"
   ]
  },
  {
   "cell_type": "code",
   "execution_count": 67,
   "metadata": {},
   "outputs": [
    {
     "name": "stderr",
     "output_type": "stream",
     "text": [
      "C:\\Users\\HP WORLD\\Anaconda4\\lib\\site-packages\\ipykernel_launcher.py:3: FutureWarning: convert_objects is deprecated.  To re-infer data dtypes for object columns, use Series.infer_objects()\n",
      "For all other conversions use the data-type specific converters pd.to_datetime, pd.to_timedelta and pd.to_numeric.\n",
      "  This is separate from the ipykernel package so we can avoid doing imports until\n"
     ]
    }
   ],
   "source": [
    "import math\n",
    "df4 = df5.copy()\n",
    "df4['price'] = df4[\"price\"].convert_objects(convert_numeric=True)\n",
    "df4['lmr'] = None\n",
    "i = 0\n",
    "for row in df4.iterrows():\n",
    "    df4['lmr'].at[i] = math.pow(df4[\"price\"][i],2)\n",
    "    i += 1"
   ]
  },
  {
   "cell_type": "code",
   "execution_count": 68,
   "metadata": {},
   "outputs": [
    {
     "name": "stderr",
     "output_type": "stream",
     "text": [
      "C:\\Users\\HP WORLD\\Anaconda4\\lib\\site-packages\\ipykernel_launcher.py:1: FutureWarning: convert_objects is deprecated.  To re-infer data dtypes for object columns, use Series.infer_objects()\n",
      "For all other conversions use the data-type specific converters pd.to_datetime, pd.to_timedelta and pd.to_numeric.\n",
      "  \"\"\"Entry point for launching an IPython kernel.\n"
     ]
    }
   ],
   "source": [
    "df4['lmr'] = df4[\"lmr\"].convert_objects(convert_numeric=True)"
   ]
  },
  {
   "cell_type": "markdown",
   "metadata": {},
   "source": [
    "Plotting the histogram for the square powered values"
   ]
  },
  {
   "cell_type": "code",
   "execution_count": 69,
   "metadata": {},
   "outputs": [
    {
     "data": {
      "image/png": "[encoded data removed]",
      "text/plain": [
       "<Figure size 432x288 with 1 Axes>"
      ]
     },
     "metadata": {},
     "output_type": "display_data"
    }
   ],
   "source": [
    "plt.hist(df4['lmr'])\n",
    "plt.show()"
   ]
  },
  {
   "cell_type": "markdown",
   "metadata": {},
   "source": [
    "The graph shows that the data is right skewed and compared to the original data the skewness has indeed increased"
   ]
  },
  {
   "cell_type": "markdown",
   "metadata": {},
   "source": [
    "Fitting linear model for the transformed data and analysing the summary"
   ]
  },
  {
   "cell_type": "code",
   "execution_count": 70,
   "metadata": {},
   "outputs": [
    {
     "name": "stderr",
     "output_type": "stream",
     "text": [
      "C:\\Users\\HP WORLD\\Anaconda4\\lib\\site-packages\\ipykernel_launcher.py:1: FutureWarning: convert_objects is deprecated.  To re-infer data dtypes for object columns, use Series.infer_objects()\n",
      "For all other conversions use the data-type specific converters pd.to_datetime, pd.to_timedelta and pd.to_numeric.\n",
      "  \"\"\"Entry point for launching an IPython kernel.\n",
      "C:\\Users\\HP WORLD\\Anaconda4\\lib\\site-packages\\ipykernel_launcher.py:2: FutureWarning: convert_objects is deprecated.  To re-infer data dtypes for object columns, use Series.infer_objects()\n",
      "For all other conversions use the data-type specific converters pd.to_datetime, pd.to_timedelta and pd.to_numeric.\n",
      "  \n",
      "C:\\Users\\HP WORLD\\Anaconda4\\lib\\site-packages\\ipykernel_launcher.py:3: FutureWarning: convert_objects is deprecated.  To re-infer data dtypes for object columns, use Series.infer_objects()\n",
      "For all other conversions use the data-type specific converters pd.to_datetime, pd.to_timedelta and pd.to_numeric.\n",
      "  This is separate from the ipykernel package so we can avoid doing imports until\n"
     ]
    },
    {
     "data": {
      "text/html": [
       "<table class=\"simpletable\">\n",
       "<caption>OLS Regression Results</caption>\n",
       "<tr>\n",
       "  <th>Dep. Variable:</th>           <td>lmr</td>       <th>  R-squared:         </th> <td>   0.351</td> \n",
       "</tr>\n",
       "<tr>\n",
       "  <th>Model:</th>                   <td>OLS</td>       <th>  Adj. R-squared:    </th> <td>   0.350</td> \n",
       "</tr>\n",
       "<tr>\n",
       "  <th>Method:</th>             <td>Least Squares</td>  <th>  F-statistic:       </th> <td>   269.6</td> \n",
       "</tr>\n",
       "<tr>\n",
       "  <th>Date:</th>             <td>Fri, 26 Oct 2018</td> <th>  Prob (F-statistic):</th> <td>7.94e-140</td>\n",
       "</tr>\n",
       "<tr>\n",
       "  <th>Time:</th>                 <td>22:24:11</td>     <th>  Log-Likelihood:    </th> <td> -51149.</td> \n",
       "</tr>\n",
       "<tr>\n",
       "  <th>No. Observations:</th>      <td>  1497</td>      <th>  AIC:               </th> <td>1.023e+05</td>\n",
       "</tr>\n",
       "<tr>\n",
       "  <th>Df Residuals:</th>          <td>  1494</td>      <th>  BIC:               </th> <td>1.023e+05</td>\n",
       "</tr>\n",
       "<tr>\n",
       "  <th>Df Model:</th>              <td>     3</td>      <th>                     </th>     <td> </td>    \n",
       "</tr>\n",
       "<tr>\n",
       "  <th>Covariance Type:</th>      <td>nonrobust</td>    <th>                     </th>     <td> </td>    \n",
       "</tr>\n",
       "</table>\n",
       "<table class=\"simpletable\">\n",
       "<tr>\n",
       "        <td></td>           <th>coef</th>     <th>std err</th>      <th>t</th>      <th>P>|t|</th>  <th>[0.025</th>    <th>0.975]</th>  \n",
       "</tr>\n",
       "<tr>\n",
       "  <th>bathrooms</th>     <td> 4.334e+13</td> <td>  8.8e+12</td> <td>    4.925</td> <td> 0.000</td> <td> 2.61e+13</td> <td> 6.06e+13</td>\n",
       "</tr>\n",
       "<tr>\n",
       "  <th>bedrooms</th>      <td> 1.836e+13</td> <td> 5.01e+12</td> <td>    3.663</td> <td> 0.000</td> <td> 8.53e+12</td> <td> 2.82e+13</td>\n",
       "</tr>\n",
       "<tr>\n",
       "  <th>parking_space</th> <td>-5.029e+12</td> <td> 5.99e+12</td> <td>   -0.840</td> <td> 0.401</td> <td>-1.68e+13</td> <td> 6.71e+12</td>\n",
       "</tr>\n",
       "</table>\n",
       "<table class=\"simpletable\">\n",
       "<tr>\n",
       "  <th>Omnibus:</th>       <td>1311.482</td> <th>  Durbin-Watson:     </th> <td>   1.965</td> \n",
       "</tr>\n",
       "<tr>\n",
       "  <th>Prob(Omnibus):</th>  <td> 0.000</td>  <th>  Jarque-Bera (JB):  </th> <td>42675.851</td>\n",
       "</tr>\n",
       "<tr>\n",
       "  <th>Skew:</th>           <td> 4.029</td>  <th>  Prob(JB):          </th> <td>    0.00</td> \n",
       "</tr>\n",
       "<tr>\n",
       "  <th>Kurtosis:</th>       <td>27.885</td>  <th>  Cond. No.          </th> <td>    8.95</td> \n",
       "</tr>\n",
       "</table>"
      ],
      "text/plain": [
       "<class 'statsmodels.iolib.summary.Summary'>\n",
       "\"\"\"\n",
       "                            OLS Regression Results                            \n",
       "==============================================================================\n",
       "Dep. Variable:                    lmr   R-squared:                       0.351\n",
       "Model:                            OLS   Adj. R-squared:                  0.350\n",
       "Method:                 Least Squares   F-statistic:                     269.6\n",
       "Date:                Fri, 26 Oct 2018   Prob (F-statistic):          7.94e-140\n",
       "Time:                        22:24:11   Log-Likelihood:                -51149.\n",
       "No. Observations:                1497   AIC:                         1.023e+05\n",
       "Df Residuals:                    1494   BIC:                         1.023e+05\n",
       "Df Model:                           3                                         \n",
       "Covariance Type:            nonrobust                                         \n",
       "=================================================================================\n",
       "                    coef    std err          t      P>|t|      [0.025      0.975]\n",
       "---------------------------------------------------------------------------------\n",
       "bathrooms      4.334e+13    8.8e+12      4.925      0.000    2.61e+13    6.06e+13\n",
       "bedrooms       1.836e+13   5.01e+12      3.663      0.000    8.53e+12    2.82e+13\n",
       "parking_space -5.029e+12   5.99e+12     -0.840      0.401   -1.68e+13    6.71e+12\n",
       "==============================================================================\n",
       "Omnibus:                     1311.482   Durbin-Watson:                   1.965\n",
       "Prob(Omnibus):                  0.000   Jarque-Bera (JB):            42675.851\n",
       "Skew:                           4.029   Prob(JB):                         0.00\n",
       "Kurtosis:                      27.885   Cond. No.                         8.95\n",
       "==============================================================================\n",
       "\n",
       "Warnings:\n",
       "[1] Standard Errors assume that the covariance matrix of the errors is correctly specified.\n",
       "\"\"\""
      ]
     },
     "execution_count": 70,
     "metadata": {},
     "output_type": "execute_result"
    }
   ],
   "source": [
    "df4['bedrooms'] = df4[\"bedrooms\"].convert_objects(convert_numeric=True)\n",
    "df4['bathrooms'] = df4[\"bathrooms\"].convert_objects(convert_numeric=True)\n",
    "df4['parking_space'] = df4[\"parking_space\"].convert_objects(convert_numeric=True)\n",
    "df4['property_type'] = df4['property_type'].map({'house':1})\n",
    "df_train = df4.drop(columns=['property_type','year','addr_street', 'lng','lat','property_id','price'])\n",
    "\n",
    "from sklearn.cross_validation import train_test_split\n",
    "from sklearn.linear_model import LinearRegression\n",
    "from sklearn.datasets import load_boston\n",
    "from sklearn.metrics import mean_squared_error\n",
    "import statsmodels.api as sm\n",
    "import sklearn\n",
    "%matplotlib inline\n",
    "X_train, X_test, y_train, y_test = train_test_split(df_train.iloc[:,:-1],df_train.iloc[:,-1:],random_state=111)\n",
    "lm_full = LinearRegression()\n",
    "model = sm.OLS(y_train,X_train).fit()\n",
    "#model  =lm_full.fit()\n",
    "y_pred = model.predict(X_test)\n",
    "#print ('r-squared for this model = ',lm_full.score(X_test,y_test))\n",
    "model.summary()"
   ]
  },
  {
   "cell_type": "markdown",
   "metadata": {},
   "source": [
    "We can observe that the R square value has decreased and the skew value also has increased and hence this is not good for our linear model"
   ]
  },
  {
   "cell_type": "markdown",
   "metadata": {},
   "source": [
    "#### 5.Log transformation"
   ]
  },
  {
   "cell_type": "code",
   "execution_count": 71,
   "metadata": {},
   "outputs": [
    {
     "name": "stderr",
     "output_type": "stream",
     "text": [
      "C:\\Users\\HP WORLD\\Anaconda4\\lib\\site-packages\\ipykernel_launcher.py:3: FutureWarning: convert_objects is deprecated.  To re-infer data dtypes for object columns, use Series.infer_objects()\n",
      "For all other conversions use the data-type specific converters pd.to_datetime, pd.to_timedelta and pd.to_numeric.\n",
      "  This is separate from the ipykernel package so we can avoid doing imports until\n"
     ]
    }
   ],
   "source": [
    "import math\n",
    "df4 = df5.copy()\n",
    "df4['price'] = df4[\"price\"].convert_objects(convert_numeric=True)\n",
    "df4['lmr'] = None\n",
    "i = 0\n",
    "for row in df4.iterrows():\n",
    "    df4['lmr'].at[i] = math.log(df4[\"price\"][i])\n",
    "    i += 1"
   ]
  },
  {
   "cell_type": "code",
   "execution_count": 72,
   "metadata": {},
   "outputs": [
    {
     "name": "stderr",
     "output_type": "stream",
     "text": [
      "C:\\Users\\HP WORLD\\Anaconda4\\lib\\site-packages\\ipykernel_launcher.py:1: FutureWarning: convert_objects is deprecated.  To re-infer data dtypes for object columns, use Series.infer_objects()\n",
      "For all other conversions use the data-type specific converters pd.to_datetime, pd.to_timedelta and pd.to_numeric.\n",
      "  \"\"\"Entry point for launching an IPython kernel.\n"
     ]
    }
   ],
   "source": [
    "df4['lmr'] = df4[\"lmr\"].convert_objects(convert_numeric=True)"
   ]
  },
  {
   "cell_type": "markdown",
   "metadata": {},
   "source": [
    "Plotting the log transformed values using histogram"
   ]
  },
  {
   "cell_type": "code",
   "execution_count": 73,
   "metadata": {},
   "outputs": [
    {
     "data": {
      "image/png": "[encoded data removed]",
      "text/plain": [
       "<Figure size 432x288 with 1 Axes>"
      ]
     },
     "metadata": {},
     "output_type": "display_data"
    }
   ],
   "source": [
    "plt.hist(df4['lmr'])\n",
    "plt.show()"
   ]
  },
  {
   "cell_type": "markdown",
   "metadata": {},
   "source": [
    "Fitting linear model for the transformed data and analysing the summary"
   ]
  },
  {
   "cell_type": "code",
   "execution_count": 74,
   "metadata": {},
   "outputs": [
    {
     "name": "stderr",
     "output_type": "stream",
     "text": [
      "C:\\Users\\HP WORLD\\Anaconda4\\lib\\site-packages\\ipykernel_launcher.py:1: FutureWarning: convert_objects is deprecated.  To re-infer data dtypes for object columns, use Series.infer_objects()\n",
      "For all other conversions use the data-type specific converters pd.to_datetime, pd.to_timedelta and pd.to_numeric.\n",
      "  \"\"\"Entry point for launching an IPython kernel.\n",
      "C:\\Users\\HP WORLD\\Anaconda4\\lib\\site-packages\\ipykernel_launcher.py:2: FutureWarning: convert_objects is deprecated.  To re-infer data dtypes for object columns, use Series.infer_objects()\n",
      "For all other conversions use the data-type specific converters pd.to_datetime, pd.to_timedelta and pd.to_numeric.\n",
      "  \n",
      "C:\\Users\\HP WORLD\\Anaconda4\\lib\\site-packages\\ipykernel_launcher.py:3: FutureWarning: convert_objects is deprecated.  To re-infer data dtypes for object columns, use Series.infer_objects()\n",
      "For all other conversions use the data-type specific converters pd.to_datetime, pd.to_timedelta and pd.to_numeric.\n",
      "  This is separate from the ipykernel package so we can avoid doing imports until\n"
     ]
    },
    {
     "data": {
      "text/html": [
       "<table class=\"simpletable\">\n",
       "<caption>OLS Regression Results</caption>\n",
       "<tr>\n",
       "  <th>Dep. Variable:</th>           <td>lmr</td>       <th>  R-squared:         </th> <td>   0.949</td>\n",
       "</tr>\n",
       "<tr>\n",
       "  <th>Model:</th>                   <td>OLS</td>       <th>  Adj. R-squared:    </th> <td>   0.949</td>\n",
       "</tr>\n",
       "<tr>\n",
       "  <th>Method:</th>             <td>Least Squares</td>  <th>  F-statistic:       </th> <td>   9336.</td>\n",
       "</tr>\n",
       "<tr>\n",
       "  <th>Date:</th>             <td>Fri, 26 Oct 2018</td> <th>  Prob (F-statistic):</th>  <td>  0.00</td> \n",
       "</tr>\n",
       "<tr>\n",
       "  <th>Time:</th>                 <td>22:24:12</td>     <th>  Log-Likelihood:    </th> <td> -4029.3</td>\n",
       "</tr>\n",
       "<tr>\n",
       "  <th>No. Observations:</th>      <td>  1497</td>      <th>  AIC:               </th> <td>   8065.</td>\n",
       "</tr>\n",
       "<tr>\n",
       "  <th>Df Residuals:</th>          <td>  1494</td>      <th>  BIC:               </th> <td>   8081.</td>\n",
       "</tr>\n",
       "<tr>\n",
       "  <th>Df Model:</th>              <td>     3</td>      <th>                     </th>     <td> </td>   \n",
       "</tr>\n",
       "<tr>\n",
       "  <th>Covariance Type:</th>      <td>nonrobust</td>    <th>                     </th>     <td> </td>   \n",
       "</tr>\n",
       "</table>\n",
       "<table class=\"simpletable\">\n",
       "<tr>\n",
       "        <td></td>           <th>coef</th>     <th>std err</th>      <th>t</th>      <th>P>|t|</th>  <th>[0.025</th>    <th>0.975]</th>  \n",
       "</tr>\n",
       "<tr>\n",
       "  <th>bathrooms</th>     <td>    0.0301</td> <td>    0.188</td> <td>    0.160</td> <td> 0.873</td> <td>   -0.339</td> <td>    0.399</td>\n",
       "</tr>\n",
       "<tr>\n",
       "  <th>bedrooms</th>      <td>    4.3926</td> <td>    0.107</td> <td>   40.991</td> <td> 0.000</td> <td>    4.182</td> <td>    4.603</td>\n",
       "</tr>\n",
       "<tr>\n",
       "  <th>parking_space</th> <td>    0.6468</td> <td>    0.128</td> <td>    5.051</td> <td> 0.000</td> <td>    0.396</td> <td>    0.898</td>\n",
       "</tr>\n",
       "</table>\n",
       "<table class=\"simpletable\">\n",
       "<tr>\n",
       "  <th>Omnibus:</th>       <td> 4.656</td> <th>  Durbin-Watson:     </th> <td>   1.936</td>\n",
       "</tr>\n",
       "<tr>\n",
       "  <th>Prob(Omnibus):</th> <td> 0.097</td> <th>  Jarque-Bera (JB):  </th> <td>   4.649</td>\n",
       "</tr>\n",
       "<tr>\n",
       "  <th>Skew:</th>          <td>-0.106</td> <th>  Prob(JB):          </th> <td>  0.0978</td>\n",
       "</tr>\n",
       "<tr>\n",
       "  <th>Kurtosis:</th>      <td> 3.172</td> <th>  Cond. No.          </th> <td>    8.95</td>\n",
       "</tr>\n",
       "</table>"
      ],
      "text/plain": [
       "<class 'statsmodels.iolib.summary.Summary'>\n",
       "\"\"\"\n",
       "                            OLS Regression Results                            \n",
       "==============================================================================\n",
       "Dep. Variable:                    lmr   R-squared:                       0.949\n",
       "Model:                            OLS   Adj. R-squared:                  0.949\n",
       "Method:                 Least Squares   F-statistic:                     9336.\n",
       "Date:                Fri, 26 Oct 2018   Prob (F-statistic):               0.00\n",
       "Time:                        22:24:12   Log-Likelihood:                -4029.3\n",
       "No. Observations:                1497   AIC:                             8065.\n",
       "Df Residuals:                    1494   BIC:                             8081.\n",
       "Df Model:                           3                                         \n",
       "Covariance Type:            nonrobust                                         \n",
       "=================================================================================\n",
       "                    coef    std err          t      P>|t|      [0.025      0.975]\n",
       "---------------------------------------------------------------------------------\n",
       "bathrooms         0.0301      0.188      0.160      0.873      -0.339       0.399\n",
       "bedrooms          4.3926      0.107     40.991      0.000       4.182       4.603\n",
       "parking_space     0.6468      0.128      5.051      0.000       0.396       0.898\n",
       "==============================================================================\n",
       "Omnibus:                        4.656   Durbin-Watson:                   1.936\n",
       "Prob(Omnibus):                  0.097   Jarque-Bera (JB):                4.649\n",
       "Skew:                          -0.106   Prob(JB):                       0.0978\n",
       "Kurtosis:                       3.172   Cond. No.                         8.95\n",
       "==============================================================================\n",
       "\n",
       "Warnings:\n",
       "[1] Standard Errors assume that the covariance matrix of the errors is correctly specified.\n",
       "\"\"\""
      ]
     },
     "execution_count": 74,
     "metadata": {},
     "output_type": "execute_result"
    }
   ],
   "source": [
    "df4['bedrooms'] = df4[\"bedrooms\"].convert_objects(convert_numeric=True)\n",
    "df4['bathrooms'] = df4[\"bathrooms\"].convert_objects(convert_numeric=True)\n",
    "df4['parking_space'] = df4[\"parking_space\"].convert_objects(convert_numeric=True)\n",
    "df4['property_type'] = df4['property_type'].map({'house':1})\n",
    "df_train = df4.drop(columns=['property_type','year','addr_street', 'lng','lat','property_id','price'])\n",
    "\n",
    "from sklearn.cross_validation import train_test_split\n",
    "from sklearn.linear_model import LinearRegression\n",
    "from sklearn.datasets import load_boston\n",
    "from sklearn.metrics import mean_squared_error\n",
    "import statsmodels.api as sm\n",
    "import sklearn\n",
    "%matplotlib inline\n",
    "X_train, X_test, y_train, y_test = train_test_split(df_train.iloc[:,:-1],df_train.iloc[:,-1:],random_state=111)\n",
    "lm_full = LinearRegression()\n",
    "model = sm.OLS(y_train,X_train).fit()\n",
    "#model  =lm_full.fit()\n",
    "y_pred = model.predict(X_test)\n",
    "#print ('r-squared for this model = ',lm_full.score(X_test,y_test))\n",
    "model.summary()"
   ]
  },
  {
   "cell_type": "markdown",
   "metadata": {},
   "source": [
    "The R squared value is 0.949 which is the highest for any of the transformations, skew is -0.106 which is the least for any of the transformation techniques.\n",
    "\n",
    "Hence we conclude that Log transformation is the best method to fit our linear model."
   ]
  }
 ],
 "metadata": {
  "kernelspec": {
   "display_name": "Python 3",
   "language": "python",
   "name": "python3"
  },
  "language_info": {
   "codemirror_mode": {
    "name": "ipython",
    "version": 3
   },
   "file_extension": ".py",
   "mimetype": "text/x-python",
   "name": "python",
   "nbconvert_exporter": "python",
   "pygments_lexer": "ipython3",
   "version": "3.8.3"
  }
 },
 "nbformat": 4,
 "nbformat_minor": 2
}
